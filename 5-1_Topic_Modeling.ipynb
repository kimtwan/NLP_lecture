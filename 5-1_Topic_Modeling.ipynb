{
  "nbformat": 4,
  "nbformat_minor": 0,
  "metadata": {
    "colab": {
      "provenance": [],
      "toc_visible": true
    },
    "kernelspec": {
      "name": "python3",
      "display_name": "Python 3"
    },
    "language_info": {
      "name": "python"
    },
    "widgets": {
      "application/vnd.jupyter.widget-state+json": {
        "1f9abe771ffe4ba2b358d96e3634eb4c": {
          "model_module": "@jupyter-widgets/controls",
          "model_name": "HBoxModel",
          "model_module_version": "1.5.0",
          "state": {
            "_dom_classes": [],
            "_model_module": "@jupyter-widgets/controls",
            "_model_module_version": "1.5.0",
            "_model_name": "HBoxModel",
            "_view_count": null,
            "_view_module": "@jupyter-widgets/controls",
            "_view_module_version": "1.5.0",
            "_view_name": "HBoxView",
            "box_style": "",
            "children": [
              "IPY_MODEL_1b94c22766134d2993c1519ec1a9a588",
              "IPY_MODEL_6f048a830dab42fc889682f470781081",
              "IPY_MODEL_0f88292cfe8e4c35b8e37d88c54e19d5"
            ],
            "layout": "IPY_MODEL_f3d3d420c75041bd9522638c145012d1"
          }
        },
        "1b94c22766134d2993c1519ec1a9a588": {
          "model_module": "@jupyter-widgets/controls",
          "model_name": "HTMLModel",
          "model_module_version": "1.5.0",
          "state": {
            "_dom_classes": [],
            "_model_module": "@jupyter-widgets/controls",
            "_model_module_version": "1.5.0",
            "_model_name": "HTMLModel",
            "_view_count": null,
            "_view_module": "@jupyter-widgets/controls",
            "_view_module_version": "1.5.0",
            "_view_name": "HTMLView",
            "description": "",
            "description_tooltip": null,
            "layout": "IPY_MODEL_051895537619433b894f5a5aefd211f2",
            "placeholder": "​",
            "style": "IPY_MODEL_45a9d5f062a84990934ab150aa43cb68",
            "value": "100%"
          }
        },
        "6f048a830dab42fc889682f470781081": {
          "model_module": "@jupyter-widgets/controls",
          "model_name": "FloatProgressModel",
          "model_module_version": "1.5.0",
          "state": {
            "_dom_classes": [],
            "_model_module": "@jupyter-widgets/controls",
            "_model_module_version": "1.5.0",
            "_model_name": "FloatProgressModel",
            "_view_count": null,
            "_view_module": "@jupyter-widgets/controls",
            "_view_module_version": "1.5.0",
            "_view_name": "ProgressView",
            "bar_style": "success",
            "description": "",
            "description_tooltip": null,
            "layout": "IPY_MODEL_6dcbc978bd454386b01768a6b331a31a",
            "max": 23,
            "min": 0,
            "orientation": "horizontal",
            "style": "IPY_MODEL_c491a0687dad4c459e2db5e5479248ba",
            "value": 23
          }
        },
        "0f88292cfe8e4c35b8e37d88c54e19d5": {
          "model_module": "@jupyter-widgets/controls",
          "model_name": "HTMLModel",
          "model_module_version": "1.5.0",
          "state": {
            "_dom_classes": [],
            "_model_module": "@jupyter-widgets/controls",
            "_model_module_version": "1.5.0",
            "_model_name": "HTMLModel",
            "_view_count": null,
            "_view_module": "@jupyter-widgets/controls",
            "_view_module_version": "1.5.0",
            "_view_name": "HTMLView",
            "description": "",
            "description_tooltip": null,
            "layout": "IPY_MODEL_497b03cd1ac74de58fa4640f9ed1dccc",
            "placeholder": "​",
            "style": "IPY_MODEL_c50db211234b4a52b05db10e44ddcf66",
            "value": " 23/23 [09:06&lt;00:00, 23.65s/it]"
          }
        },
        "f3d3d420c75041bd9522638c145012d1": {
          "model_module": "@jupyter-widgets/base",
          "model_name": "LayoutModel",
          "model_module_version": "1.2.0",
          "state": {
            "_model_module": "@jupyter-widgets/base",
            "_model_module_version": "1.2.0",
            "_model_name": "LayoutModel",
            "_view_count": null,
            "_view_module": "@jupyter-widgets/base",
            "_view_module_version": "1.2.0",
            "_view_name": "LayoutView",
            "align_content": null,
            "align_items": null,
            "align_self": null,
            "border": null,
            "bottom": null,
            "display": null,
            "flex": null,
            "flex_flow": null,
            "grid_area": null,
            "grid_auto_columns": null,
            "grid_auto_flow": null,
            "grid_auto_rows": null,
            "grid_column": null,
            "grid_gap": null,
            "grid_row": null,
            "grid_template_areas": null,
            "grid_template_columns": null,
            "grid_template_rows": null,
            "height": null,
            "justify_content": null,
            "justify_items": null,
            "left": null,
            "margin": null,
            "max_height": null,
            "max_width": null,
            "min_height": null,
            "min_width": null,
            "object_fit": null,
            "object_position": null,
            "order": null,
            "overflow": null,
            "overflow_x": null,
            "overflow_y": null,
            "padding": null,
            "right": null,
            "top": null,
            "visibility": null,
            "width": null
          }
        },
        "051895537619433b894f5a5aefd211f2": {
          "model_module": "@jupyter-widgets/base",
          "model_name": "LayoutModel",
          "model_module_version": "1.2.0",
          "state": {
            "_model_module": "@jupyter-widgets/base",
            "_model_module_version": "1.2.0",
            "_model_name": "LayoutModel",
            "_view_count": null,
            "_view_module": "@jupyter-widgets/base",
            "_view_module_version": "1.2.0",
            "_view_name": "LayoutView",
            "align_content": null,
            "align_items": null,
            "align_self": null,
            "border": null,
            "bottom": null,
            "display": null,
            "flex": null,
            "flex_flow": null,
            "grid_area": null,
            "grid_auto_columns": null,
            "grid_auto_flow": null,
            "grid_auto_rows": null,
            "grid_column": null,
            "grid_gap": null,
            "grid_row": null,
            "grid_template_areas": null,
            "grid_template_columns": null,
            "grid_template_rows": null,
            "height": null,
            "justify_content": null,
            "justify_items": null,
            "left": null,
            "margin": null,
            "max_height": null,
            "max_width": null,
            "min_height": null,
            "min_width": null,
            "object_fit": null,
            "object_position": null,
            "order": null,
            "overflow": null,
            "overflow_x": null,
            "overflow_y": null,
            "padding": null,
            "right": null,
            "top": null,
            "visibility": null,
            "width": null
          }
        },
        "45a9d5f062a84990934ab150aa43cb68": {
          "model_module": "@jupyter-widgets/controls",
          "model_name": "DescriptionStyleModel",
          "model_module_version": "1.5.0",
          "state": {
            "_model_module": "@jupyter-widgets/controls",
            "_model_module_version": "1.5.0",
            "_model_name": "DescriptionStyleModel",
            "_view_count": null,
            "_view_module": "@jupyter-widgets/base",
            "_view_module_version": "1.2.0",
            "_view_name": "StyleView",
            "description_width": ""
          }
        },
        "6dcbc978bd454386b01768a6b331a31a": {
          "model_module": "@jupyter-widgets/base",
          "model_name": "LayoutModel",
          "model_module_version": "1.2.0",
          "state": {
            "_model_module": "@jupyter-widgets/base",
            "_model_module_version": "1.2.0",
            "_model_name": "LayoutModel",
            "_view_count": null,
            "_view_module": "@jupyter-widgets/base",
            "_view_module_version": "1.2.0",
            "_view_name": "LayoutView",
            "align_content": null,
            "align_items": null,
            "align_self": null,
            "border": null,
            "bottom": null,
            "display": null,
            "flex": null,
            "flex_flow": null,
            "grid_area": null,
            "grid_auto_columns": null,
            "grid_auto_flow": null,
            "grid_auto_rows": null,
            "grid_column": null,
            "grid_gap": null,
            "grid_row": null,
            "grid_template_areas": null,
            "grid_template_columns": null,
            "grid_template_rows": null,
            "height": null,
            "justify_content": null,
            "justify_items": null,
            "left": null,
            "margin": null,
            "max_height": null,
            "max_width": null,
            "min_height": null,
            "min_width": null,
            "object_fit": null,
            "object_position": null,
            "order": null,
            "overflow": null,
            "overflow_x": null,
            "overflow_y": null,
            "padding": null,
            "right": null,
            "top": null,
            "visibility": null,
            "width": null
          }
        },
        "c491a0687dad4c459e2db5e5479248ba": {
          "model_module": "@jupyter-widgets/controls",
          "model_name": "ProgressStyleModel",
          "model_module_version": "1.5.0",
          "state": {
            "_model_module": "@jupyter-widgets/controls",
            "_model_module_version": "1.5.0",
            "_model_name": "ProgressStyleModel",
            "_view_count": null,
            "_view_module": "@jupyter-widgets/base",
            "_view_module_version": "1.2.0",
            "_view_name": "StyleView",
            "bar_color": null,
            "description_width": ""
          }
        },
        "497b03cd1ac74de58fa4640f9ed1dccc": {
          "model_module": "@jupyter-widgets/base",
          "model_name": "LayoutModel",
          "model_module_version": "1.2.0",
          "state": {
            "_model_module": "@jupyter-widgets/base",
            "_model_module_version": "1.2.0",
            "_model_name": "LayoutModel",
            "_view_count": null,
            "_view_module": "@jupyter-widgets/base",
            "_view_module_version": "1.2.0",
            "_view_name": "LayoutView",
            "align_content": null,
            "align_items": null,
            "align_self": null,
            "border": null,
            "bottom": null,
            "display": null,
            "flex": null,
            "flex_flow": null,
            "grid_area": null,
            "grid_auto_columns": null,
            "grid_auto_flow": null,
            "grid_auto_rows": null,
            "grid_column": null,
            "grid_gap": null,
            "grid_row": null,
            "grid_template_areas": null,
            "grid_template_columns": null,
            "grid_template_rows": null,
            "height": null,
            "justify_content": null,
            "justify_items": null,
            "left": null,
            "margin": null,
            "max_height": null,
            "max_width": null,
            "min_height": null,
            "min_width": null,
            "object_fit": null,
            "object_position": null,
            "order": null,
            "overflow": null,
            "overflow_x": null,
            "overflow_y": null,
            "padding": null,
            "right": null,
            "top": null,
            "visibility": null,
            "width": null
          }
        },
        "c50db211234b4a52b05db10e44ddcf66": {
          "model_module": "@jupyter-widgets/controls",
          "model_name": "DescriptionStyleModel",
          "model_module_version": "1.5.0",
          "state": {
            "_model_module": "@jupyter-widgets/controls",
            "_model_module_version": "1.5.0",
            "_model_name": "DescriptionStyleModel",
            "_view_count": null,
            "_view_module": "@jupyter-widgets/base",
            "_view_module_version": "1.2.0",
            "_view_name": "StyleView",
            "description_width": ""
          }
        }
      }
    }
  },
  "cells": [
    {
      "cell_type": "markdown",
      "source": [
        "# 5-1. **Topic Modeling**"
      ],
      "metadata": {
        "id": "sq269e-OX70B"
      }
    },
    {
      "cell_type": "code",
      "source": [
        "!pip install -q nltk\n",
        "!pip install -q konlpy\n",
        "!pip install -q gensim"
      ],
      "metadata": {
        "colab": {
          "base_uri": "https://localhost:8080/"
        },
        "id": "QW_yyKUo9Qi5",
        "outputId": "1920a223-72e0-4db3-beb4-beaaaf9027c7"
      },
      "execution_count": null,
      "outputs": [
        {
          "output_type": "stream",
          "name": "stdout",
          "text": [
            "\u001b[2K     \u001b[90m━━━━━━━━━━━━━━━━━━━━━━━━━━━━━━━━━━━━━━━━\u001b[0m \u001b[32m19.4/19.4 MB\u001b[0m \u001b[31m36.8 MB/s\u001b[0m eta \u001b[36m0:00:00\u001b[0m\n",
            "\u001b[2K     \u001b[90m━━━━━━━━━━━━━━━━━━━━━━━━━━━━━━━━━━━━━━━━\u001b[0m \u001b[32m465.3/465.3 kB\u001b[0m \u001b[31m26.2 MB/s\u001b[0m eta \u001b[36m0:00:00\u001b[0m\n",
            "\u001b[?25h"
          ]
        }
      ]
    },
    {
      "cell_type": "code",
      "execution_count": null,
      "metadata": {
        "colab": {
          "base_uri": "https://localhost:8080/"
        },
        "id": "Jhe8Wwyg_Bpe",
        "outputId": "e2663130-12d4-48aa-a079-2a4d2d94117e"
      },
      "outputs": [
        {
          "output_type": "stream",
          "name": "stderr",
          "text": [
            "[nltk_data] Downloading package punkt to /root/nltk_data...\n",
            "[nltk_data]   Unzipping tokenizers/punkt.zip.\n"
          ]
        },
        {
          "output_type": "execute_result",
          "data": {
            "text/plain": [
              "True"
            ]
          },
          "metadata": {},
          "execution_count": 2
        }
      ],
      "source": [
        "import pandas as pd\n",
        "\n",
        "import nltk\n",
        "nltk.download('punkt')"
      ]
    },
    {
      "cell_type": "code",
      "source": [
        "!wget https://raw.githubusercontent.com/kimtwan/NLP_lecture/master/data/MPB_minutes.tsv"
      ],
      "metadata": {
        "colab": {
          "base_uri": "https://localhost:8080/"
        },
        "id": "J5s4exW19OHb",
        "outputId": "061a435c-7b37-4624-cade-179a3a0fb824"
      },
      "execution_count": null,
      "outputs": [
        {
          "output_type": "stream",
          "name": "stdout",
          "text": [
            "--2023-10-17 21:30:39--  https://raw.githubusercontent.com/kimtwan/NLP_lecture/master/data/MPB_minutes.tsv\n",
            "Resolving raw.githubusercontent.com (raw.githubusercontent.com)... 185.199.108.133, 185.199.109.133, 185.199.110.133, ...\n",
            "Connecting to raw.githubusercontent.com (raw.githubusercontent.com)|185.199.108.133|:443... connected.\n",
            "HTTP request sent, awaiting response... 200 OK\n",
            "Length: 15195720 (14M) [text/plain]\n",
            "Saving to: ‘MPB_minutes.tsv’\n",
            "\n",
            "MPB_minutes.tsv     100%[===================>]  14.49M  --.-KB/s    in 0.09s   \n",
            "\n",
            "2023-10-17 21:30:40 (168 MB/s) - ‘MPB_minutes.tsv’ saved [15195720/15195720]\n",
            "\n"
          ]
        }
      ]
    },
    {
      "cell_type": "code",
      "source": [
        "# load Monetary Policy Board minutes text\n",
        "data = pd.read_csv('MPB_minutes.tsv', encoding='utf-8', sep='\\t', parse_dates=['날짜'], index_col='날짜')\n",
        "# minutes after 2020\n",
        "data = data.sort_index().loc['2020-01-01':]\n",
        "data.head()"
      ],
      "metadata": {
        "colab": {
          "base_uri": "https://localhost:8080/",
          "height": 292
        },
        "id": "30HGZQD3Gwkg",
        "outputId": "6d358fe9-8c96-4764-8810-6e9f4ee20198"
      },
      "execution_count": null,
      "outputs": [
        {
          "output_type": "stream",
          "name": "stderr",
          "text": [
            "<ipython-input-4-be31f9254d68>:4: FutureWarning: Value based partial slicing on non-monotonic DatetimeIndexes with non-existing keys is deprecated and will raise a KeyError in a future Version.\n",
            "  data = data.loc['2020-01-01':]\n"
          ]
        },
        {
          "output_type": "execute_result",
          "data": {
            "text/plain": [
              "                     회차                                                의사록\n",
              "날짜                                                                        \n",
              "2020-05-28  2020년도 제12차  2020년도 제12차\\n금융통화위원회 의사록\\n한 국 은 행\\n1. 일 자 2020...\n",
              "2020-07-16  2020년도 제15차  2020년도 제15차\\n금융통화위원회 의사록\\n한 국 은 행\\n1. 일 자 2020...\n",
              "2020-08-27  2020년도 제19차  2020년도 제19차\\n금융통화위원회 의사록\\n한 국 은 행\\n1. 일 자 2020...\n",
              "2020-01-17   2020년도 제1차  2020년도 제1차\\n금융통화위원회 의사록\\n한 국 은 행\\n1. 일 자 2020년...\n",
              "2020-10-14  2020년도 제22차  2020년도 제22차\\n금융통화위원회 의사록\\n한 국 은 행\\n1. 일 자 2020..."
            ],
            "text/html": [
              "\n",
              "  <div id=\"df-62486946-87aa-45ee-a2c0-4172ff8ffbda\" class=\"colab-df-container\">\n",
              "    <div>\n",
              "<style scoped>\n",
              "    .dataframe tbody tr th:only-of-type {\n",
              "        vertical-align: middle;\n",
              "    }\n",
              "\n",
              "    .dataframe tbody tr th {\n",
              "        vertical-align: top;\n",
              "    }\n",
              "\n",
              "    .dataframe thead th {\n",
              "        text-align: right;\n",
              "    }\n",
              "</style>\n",
              "<table border=\"1\" class=\"dataframe\">\n",
              "  <thead>\n",
              "    <tr style=\"text-align: right;\">\n",
              "      <th></th>\n",
              "      <th>회차</th>\n",
              "      <th>의사록</th>\n",
              "    </tr>\n",
              "    <tr>\n",
              "      <th>날짜</th>\n",
              "      <th></th>\n",
              "      <th></th>\n",
              "    </tr>\n",
              "  </thead>\n",
              "  <tbody>\n",
              "    <tr>\n",
              "      <th>2020-05-28</th>\n",
              "      <td>2020년도 제12차</td>\n",
              "      <td>2020년도 제12차\\n금융통화위원회 의사록\\n한 국 은 행\\n1. 일 자 2020...</td>\n",
              "    </tr>\n",
              "    <tr>\n",
              "      <th>2020-07-16</th>\n",
              "      <td>2020년도 제15차</td>\n",
              "      <td>2020년도 제15차\\n금융통화위원회 의사록\\n한 국 은 행\\n1. 일 자 2020...</td>\n",
              "    </tr>\n",
              "    <tr>\n",
              "      <th>2020-08-27</th>\n",
              "      <td>2020년도 제19차</td>\n",
              "      <td>2020년도 제19차\\n금융통화위원회 의사록\\n한 국 은 행\\n1. 일 자 2020...</td>\n",
              "    </tr>\n",
              "    <tr>\n",
              "      <th>2020-01-17</th>\n",
              "      <td>2020년도 제1차</td>\n",
              "      <td>2020년도 제1차\\n금융통화위원회 의사록\\n한 국 은 행\\n1. 일 자 2020년...</td>\n",
              "    </tr>\n",
              "    <tr>\n",
              "      <th>2020-10-14</th>\n",
              "      <td>2020년도 제22차</td>\n",
              "      <td>2020년도 제22차\\n금융통화위원회 의사록\\n한 국 은 행\\n1. 일 자 2020...</td>\n",
              "    </tr>\n",
              "  </tbody>\n",
              "</table>\n",
              "</div>\n",
              "    <div class=\"colab-df-buttons\">\n",
              "\n",
              "  <div class=\"colab-df-container\">\n",
              "    <button class=\"colab-df-convert\" onclick=\"convertToInteractive('df-62486946-87aa-45ee-a2c0-4172ff8ffbda')\"\n",
              "            title=\"Convert this dataframe to an interactive table.\"\n",
              "            style=\"display:none;\">\n",
              "\n",
              "  <svg xmlns=\"http://www.w3.org/2000/svg\" height=\"24px\" viewBox=\"0 -960 960 960\">\n",
              "    <path d=\"M120-120v-720h720v720H120Zm60-500h600v-160H180v160Zm220 220h160v-160H400v160Zm0 220h160v-160H400v160ZM180-400h160v-160H180v160Zm440 0h160v-160H620v160ZM180-180h160v-160H180v160Zm440 0h160v-160H620v160Z\"/>\n",
              "  </svg>\n",
              "    </button>\n",
              "\n",
              "  <style>\n",
              "    .colab-df-container {\n",
              "      display:flex;\n",
              "      gap: 12px;\n",
              "    }\n",
              "\n",
              "    .colab-df-convert {\n",
              "      background-color: #E8F0FE;\n",
              "      border: none;\n",
              "      border-radius: 50%;\n",
              "      cursor: pointer;\n",
              "      display: none;\n",
              "      fill: #1967D2;\n",
              "      height: 32px;\n",
              "      padding: 0 0 0 0;\n",
              "      width: 32px;\n",
              "    }\n",
              "\n",
              "    .colab-df-convert:hover {\n",
              "      background-color: #E2EBFA;\n",
              "      box-shadow: 0px 1px 2px rgba(60, 64, 67, 0.3), 0px 1px 3px 1px rgba(60, 64, 67, 0.15);\n",
              "      fill: #174EA6;\n",
              "    }\n",
              "\n",
              "    .colab-df-buttons div {\n",
              "      margin-bottom: 4px;\n",
              "    }\n",
              "\n",
              "    [theme=dark] .colab-df-convert {\n",
              "      background-color: #3B4455;\n",
              "      fill: #D2E3FC;\n",
              "    }\n",
              "\n",
              "    [theme=dark] .colab-df-convert:hover {\n",
              "      background-color: #434B5C;\n",
              "      box-shadow: 0px 1px 3px 1px rgba(0, 0, 0, 0.15);\n",
              "      filter: drop-shadow(0px 1px 2px rgba(0, 0, 0, 0.3));\n",
              "      fill: #FFFFFF;\n",
              "    }\n",
              "  </style>\n",
              "\n",
              "    <script>\n",
              "      const buttonEl =\n",
              "        document.querySelector('#df-62486946-87aa-45ee-a2c0-4172ff8ffbda button.colab-df-convert');\n",
              "      buttonEl.style.display =\n",
              "        google.colab.kernel.accessAllowed ? 'block' : 'none';\n",
              "\n",
              "      async function convertToInteractive(key) {\n",
              "        const element = document.querySelector('#df-62486946-87aa-45ee-a2c0-4172ff8ffbda');\n",
              "        const dataTable =\n",
              "          await google.colab.kernel.invokeFunction('convertToInteractive',\n",
              "                                                    [key], {});\n",
              "        if (!dataTable) return;\n",
              "\n",
              "        const docLinkHtml = 'Like what you see? Visit the ' +\n",
              "          '<a target=\"_blank\" href=https://colab.research.google.com/notebooks/data_table.ipynb>data table notebook</a>'\n",
              "          + ' to learn more about interactive tables.';\n",
              "        element.innerHTML = '';\n",
              "        dataTable['output_type'] = 'display_data';\n",
              "        await google.colab.output.renderOutput(dataTable, element);\n",
              "        const docLink = document.createElement('div');\n",
              "        docLink.innerHTML = docLinkHtml;\n",
              "        element.appendChild(docLink);\n",
              "      }\n",
              "    </script>\n",
              "  </div>\n",
              "\n",
              "\n",
              "<div id=\"df-b945c44a-8cf5-4e3b-8520-817d21e609a0\">\n",
              "  <button class=\"colab-df-quickchart\" onclick=\"quickchart('df-b945c44a-8cf5-4e3b-8520-817d21e609a0')\"\n",
              "            title=\"Suggest charts.\"\n",
              "            style=\"display:none;\">\n",
              "\n",
              "<svg xmlns=\"http://www.w3.org/2000/svg\" height=\"24px\"viewBox=\"0 0 24 24\"\n",
              "     width=\"24px\">\n",
              "    <g>\n",
              "        <path d=\"M19 3H5c-1.1 0-2 .9-2 2v14c0 1.1.9 2 2 2h14c1.1 0 2-.9 2-2V5c0-1.1-.9-2-2-2zM9 17H7v-7h2v7zm4 0h-2V7h2v10zm4 0h-2v-4h2v4z\"/>\n",
              "    </g>\n",
              "</svg>\n",
              "  </button>\n",
              "\n",
              "<style>\n",
              "  .colab-df-quickchart {\n",
              "      --bg-color: #E8F0FE;\n",
              "      --fill-color: #1967D2;\n",
              "      --hover-bg-color: #E2EBFA;\n",
              "      --hover-fill-color: #174EA6;\n",
              "      --disabled-fill-color: #AAA;\n",
              "      --disabled-bg-color: #DDD;\n",
              "  }\n",
              "\n",
              "  [theme=dark] .colab-df-quickchart {\n",
              "      --bg-color: #3B4455;\n",
              "      --fill-color: #D2E3FC;\n",
              "      --hover-bg-color: #434B5C;\n",
              "      --hover-fill-color: #FFFFFF;\n",
              "      --disabled-bg-color: #3B4455;\n",
              "      --disabled-fill-color: #666;\n",
              "  }\n",
              "\n",
              "  .colab-df-quickchart {\n",
              "    background-color: var(--bg-color);\n",
              "    border: none;\n",
              "    border-radius: 50%;\n",
              "    cursor: pointer;\n",
              "    display: none;\n",
              "    fill: var(--fill-color);\n",
              "    height: 32px;\n",
              "    padding: 0;\n",
              "    width: 32px;\n",
              "  }\n",
              "\n",
              "  .colab-df-quickchart:hover {\n",
              "    background-color: var(--hover-bg-color);\n",
              "    box-shadow: 0 1px 2px rgba(60, 64, 67, 0.3), 0 1px 3px 1px rgba(60, 64, 67, 0.15);\n",
              "    fill: var(--button-hover-fill-color);\n",
              "  }\n",
              "\n",
              "  .colab-df-quickchart-complete:disabled,\n",
              "  .colab-df-quickchart-complete:disabled:hover {\n",
              "    background-color: var(--disabled-bg-color);\n",
              "    fill: var(--disabled-fill-color);\n",
              "    box-shadow: none;\n",
              "  }\n",
              "\n",
              "  .colab-df-spinner {\n",
              "    border: 2px solid var(--fill-color);\n",
              "    border-color: transparent;\n",
              "    border-bottom-color: var(--fill-color);\n",
              "    animation:\n",
              "      spin 1s steps(1) infinite;\n",
              "  }\n",
              "\n",
              "  @keyframes spin {\n",
              "    0% {\n",
              "      border-color: transparent;\n",
              "      border-bottom-color: var(--fill-color);\n",
              "      border-left-color: var(--fill-color);\n",
              "    }\n",
              "    20% {\n",
              "      border-color: transparent;\n",
              "      border-left-color: var(--fill-color);\n",
              "      border-top-color: var(--fill-color);\n",
              "    }\n",
              "    30% {\n",
              "      border-color: transparent;\n",
              "      border-left-color: var(--fill-color);\n",
              "      border-top-color: var(--fill-color);\n",
              "      border-right-color: var(--fill-color);\n",
              "    }\n",
              "    40% {\n",
              "      border-color: transparent;\n",
              "      border-right-color: var(--fill-color);\n",
              "      border-top-color: var(--fill-color);\n",
              "    }\n",
              "    60% {\n",
              "      border-color: transparent;\n",
              "      border-right-color: var(--fill-color);\n",
              "    }\n",
              "    80% {\n",
              "      border-color: transparent;\n",
              "      border-right-color: var(--fill-color);\n",
              "      border-bottom-color: var(--fill-color);\n",
              "    }\n",
              "    90% {\n",
              "      border-color: transparent;\n",
              "      border-bottom-color: var(--fill-color);\n",
              "    }\n",
              "  }\n",
              "</style>\n",
              "\n",
              "  <script>\n",
              "    async function quickchart(key) {\n",
              "      const quickchartButtonEl =\n",
              "        document.querySelector('#' + key + ' button');\n",
              "      quickchartButtonEl.disabled = true;  // To prevent multiple clicks.\n",
              "      quickchartButtonEl.classList.add('colab-df-spinner');\n",
              "      try {\n",
              "        const charts = await google.colab.kernel.invokeFunction(\n",
              "            'suggestCharts', [key], {});\n",
              "      } catch (error) {\n",
              "        console.error('Error during call to suggestCharts:', error);\n",
              "      }\n",
              "      quickchartButtonEl.classList.remove('colab-df-spinner');\n",
              "      quickchartButtonEl.classList.add('colab-df-quickchart-complete');\n",
              "    }\n",
              "    (() => {\n",
              "      let quickchartButtonEl =\n",
              "        document.querySelector('#df-b945c44a-8cf5-4e3b-8520-817d21e609a0 button');\n",
              "      quickchartButtonEl.style.display =\n",
              "        google.colab.kernel.accessAllowed ? 'block' : 'none';\n",
              "    })();\n",
              "  </script>\n",
              "</div>\n",
              "    </div>\n",
              "  </div>\n"
            ]
          },
          "metadata": {},
          "execution_count": 4
        }
      ]
    },
    {
      "cell_type": "code",
      "source": [
        "from konlpy.tag import Kkma\n",
        "from nltk import sent_tokenize\n",
        "from tqdm import notebook"
      ],
      "metadata": {
        "id": "ycvAnBQv_deL"
      },
      "execution_count": null,
      "outputs": []
    },
    {
      "cell_type": "code",
      "source": [
        "kkma = Kkma()\n",
        "corpus = data['의사록'].tolist()\n",
        "\n",
        "corpus_nouns = []\n",
        "for i in notebook.tqdm(range(len(corpus))):\n",
        "    # separate the minutes into sentences\n",
        "    sentences = sent_tokenize(corpus[i])\n",
        "    for sentence in sentences:\n",
        "        # extract nouns\n",
        "        nouns = kkma.nouns(sentence)\n",
        "        # includes only words longer than 2 characters\n",
        "        nouns = [noun for noun in nouns if len(noun) > 1]\n",
        "        corpus_nouns.append(nouns)"
      ],
      "metadata": {
        "colab": {
          "base_uri": "https://localhost:8080/",
          "height": 49,
          "referenced_widgets": [
            "1f9abe771ffe4ba2b358d96e3634eb4c",
            "1b94c22766134d2993c1519ec1a9a588",
            "6f048a830dab42fc889682f470781081",
            "0f88292cfe8e4c35b8e37d88c54e19d5",
            "f3d3d420c75041bd9522638c145012d1",
            "051895537619433b894f5a5aefd211f2",
            "45a9d5f062a84990934ab150aa43cb68",
            "6dcbc978bd454386b01768a6b331a31a",
            "c491a0687dad4c459e2db5e5479248ba",
            "497b03cd1ac74de58fa4640f9ed1dccc",
            "c50db211234b4a52b05db10e44ddcf66"
          ]
        },
        "id": "fJh_7ljy9NBE",
        "outputId": "87ec3f2b-d354-40ab-8d31-03832d78b77f"
      },
      "execution_count": null,
      "outputs": [
        {
          "output_type": "display_data",
          "data": {
            "text/plain": [
              "  0%|          | 0/23 [00:00<?, ?it/s]"
            ],
            "application/vnd.jupyter.widget-view+json": {
              "version_major": 2,
              "version_minor": 0,
              "model_id": "1f9abe771ffe4ba2b358d96e3634eb4c"
            }
          },
          "metadata": {}
        }
      ]
    },
    {
      "cell_type": "code",
      "source": [
        "import pprint\n",
        "pprint.pprint(corpus_nouns[:5])"
      ],
      "metadata": {
        "colab": {
          "base_uri": "https://localhost:8080/"
        },
        "id": "UW2P7V6eO4bg",
        "outputId": "87eaaf1f-d79c-4b6c-9f7c-cf3be1181ff1"
      },
      "execution_count": null,
      "outputs": [
        {
          "output_type": "stream",
          "name": "stdout",
          "text": [
            "[['2020', '2020년', '12', '12차', '금융', '금융통화위원회', '통화', '위원회', '의사록'],\n",
            " ['2020', '2020년', '5월', '28', '28일'],\n",
            " ['금융', '금융통화위원회', '통화', '위원회', '회의실'],\n",
            " ['출석', '출석위원', '위원'],\n",
            " ['결석', '결석위원', '위원']]\n"
          ]
        }
      ]
    },
    {
      "cell_type": "code",
      "source": [
        "# topic analysis using LDA\n",
        "from gensim.test.utils import common_texts\n",
        "from gensim.corpora.dictionary import Dictionary\n",
        "from gensim.models.ldamodel import LdaModel"
      ],
      "metadata": {
        "id": "aai8um5X_fkP"
      },
      "execution_count": null,
      "outputs": []
    },
    {
      "cell_type": "code",
      "source": [
        "# convert sentences into a form that can be used with gensim LDA\n",
        "dictionary = Dictionary(corpus_nouns)\n",
        "corpus = [dictionary.doc2bow(text) for text in corpus_nouns]"
      ],
      "metadata": {
        "id": "RH75C5xV_p_D"
      },
      "execution_count": null,
      "outputs": []
    },
    {
      "cell_type": "code",
      "source": [
        "pprint.pprint(corpus[:5])"
      ],
      "metadata": {
        "colab": {
          "base_uri": "https://localhost:8080/"
        },
        "id": "6niXI61YjA_h",
        "outputId": "3f76a240-ff0c-4917-8204-f9d88246d948"
      },
      "execution_count": null,
      "outputs": [
        {
          "output_type": "stream",
          "name": "stdout",
          "text": [
            "[[(0, 1), (1, 1), (2, 1), (3, 1), (4, 1), (5, 1), (6, 1), (7, 1), (8, 1)],\n",
            " [(2, 1), (3, 1), (9, 1), (10, 1), (11, 1)],\n",
            " [(4, 1), (5, 1), (6, 1), (8, 1), (12, 1)],\n",
            " [(13, 1), (14, 1), (15, 1)],\n",
            " [(13, 1), (16, 1), (17, 1)]]\n"
          ]
        }
      ]
    },
    {
      "cell_type": "code",
      "source": [
        "# set number of topics\n",
        "num_topics = 10\n",
        "\n",
        "# run the model\n",
        "lda = LdaModel(corpus, num_topics=num_topics, id2word=dictionary)"
      ],
      "metadata": {
        "colab": {
          "base_uri": "https://localhost:8080/"
        },
        "id": "KXRxknZjG6tT",
        "outputId": "4d27fe90-0506-4412-88dd-ce08b4910b75"
      },
      "execution_count": null,
      "outputs": [
        {
          "output_type": "stream",
          "name": "stderr",
          "text": [
            "WARNING:gensim.models.ldamodel:too few updates, training might not converge; consider increasing the number of passes or iterations to improve accuracy\n"
          ]
        }
      ]
    },
    {
      "cell_type": "code",
      "source": [
        "# print topics\n",
        "topics = lda.print_topics(num_words=10)\n",
        "for topic in topics:\n",
        "    print(topic)"
      ],
      "metadata": {
        "colab": {
          "base_uri": "https://localhost:8080/"
        },
        "id": "pFNOd2dcGnkM",
        "outputId": "1bf90c34-610a-4985-d33a-f0a3e8a0406a"
      },
      "execution_count": null,
      "outputs": [
        {
          "output_type": "stream",
          "name": "stdout",
          "text": [
            "(0, '0.023*\"코로나\" + 0.022*\"경제\" + 0.020*\"19\" + 0.019*\"코로나19\" + 0.017*\"확산\" + 0.016*\"국내\" + 0.016*\"소비\" + 0.014*\"국내경제\" + 0.012*\"완화\" + 0.011*\"회복\"')\n",
            "(1, '0.033*\"관련\" + 0.029*\"위원\" + 0.025*\"관련부서\" + 0.025*\"부서\" + 0.018*\"가계\" + 0.017*\"언급\" + 0.015*\"필요\" + 0.015*\"대출\" + 0.012*\"답변\" + 0.011*\"견해\"')\n",
            "(2, '0.020*\"금리\" + 0.016*\"인상\" + 0.016*\"영향\" + 0.014*\"시장\" + 0.013*\"상승\" + 0.013*\"경제\" + 0.011*\"경기\" + 0.010*\"주요국\" + 0.010*\"미국\" + 0.009*\"우리\"')\n",
            "(3, '0.018*\"기업\" + 0.016*\"관련\" + 0.015*\"대출\" + 0.014*\"금리\" + 0.013*\"부서\" + 0.013*\"관련부서\" + 0.013*\"자금\" + 0.012*\"은행\" + 0.012*\"외환\" + 0.011*\"금융\"')\n",
            "(4, '0.025*\"인플레이션\" + 0.019*\"기대인플레이션\" + 0.018*\"지속\" + 0.014*\"기대\" + 0.013*\"증가\" + 0.012*\"서비스\" + 0.011*\"중심\" + 0.011*\"취업자수\" + 0.010*\"경제\" + 0.010*\"흐름\"')\n",
            "(5, '0.020*\"전망\" + 0.020*\"대출\" + 0.018*\"금년\" + 0.017*\"증가\" + 0.017*\"은행\" + 0.015*\"금리\" + 0.014*\"수준\" + 0.013*\"지속\" + 0.013*\"확대\" + 0.012*\"예상\"')\n",
            "(6, '0.022*\"물가\" + 0.015*\"상승\" + 0.014*\"금융\" + 0.014*\"가격\" + 0.013*\"필요\" + 0.011*\"시장\" + 0.011*\"상황\" + 0.010*\"경제\" + 0.009*\"있음\" + 0.009*\"요인\"')\n",
            "(7, '0.046*\"통화\" + 0.044*\"정책\" + 0.031*\"통화정책\" + 0.023*\"금융\" + 0.014*\"경제\" + 0.012*\"물가\" + 0.012*\"방향\" + 0.010*\"필요\" + 0.010*\"통화정책방향\" + 0.010*\"위원\"')\n",
            "(8, '0.017*\"회복\" + 0.017*\"물가\" + 0.016*\"공급\" + 0.015*\"수요\" + 0.015*\"압력\" + 0.015*\"소비\" + 0.014*\"흐름\" + 0.013*\"경기\" + 0.013*\"예상\" + 0.013*\"상승\"')\n",
            "(9, '0.054*\"금리\" + 0.051*\"기준\" + 0.048*\"기준금리\" + 0.029*\"위원\" + 0.022*\"수준\" + 0.021*\"일부\" + 0.019*\"연준의\" + 0.019*\"준의\" + 0.015*\"회의\" + 0.011*\"견해\"')\n"
          ]
        }
      ]
    }
  ]
}