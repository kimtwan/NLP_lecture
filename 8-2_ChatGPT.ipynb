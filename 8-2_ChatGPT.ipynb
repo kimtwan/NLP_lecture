{
  "cells": [
    {
      "cell_type": "markdown",
      "metadata": {
        "id": "jKtMWk8XLIHX"
      },
      "source": [
        "# 8.1 **ChatGPT**"
      ]
    },
    {
      "cell_type": "markdown",
      "source": [
        "## OpenAI API\n",
        "https://platform.openai.com/"
      ],
      "metadata": {
        "id": "WdEJbWtj5t-Z"
      }
    },
    {
      "cell_type": "code",
      "execution_count": 2,
      "metadata": {
        "id": "ZUdFAT--8h3w",
        "colab": {
          "base_uri": "https://localhost:8080/"
        },
        "outputId": "630d033a-eac3-476e-9875-94eb36d51bf5"
      },
      "outputs": [
        {
          "output_type": "stream",
          "name": "stdout",
          "text": [
            "\u001b[2K     \u001b[90m━━━━━━━━━━━━━━━━━━━━━━━━━━━━━━━━━━━━━━━━\u001b[0m \u001b[32m166.6/166.6 kB\u001b[0m \u001b[31m3.5 MB/s\u001b[0m eta \u001b[36m0:00:00\u001b[0m\n",
            "\u001b[2K     \u001b[90m━━━━━━━━━━━━━━━━━━━━━━━━━━━━━━━━━━━━━━━━\u001b[0m \u001b[32m139.3/139.3 kB\u001b[0m \u001b[31m14.1 MB/s\u001b[0m eta \u001b[36m0:00:00\u001b[0m\n",
            "\u001b[2K     \u001b[90m━━━━━━━━━━━━━━━━━━━━━━━━━━━━━━━━━━━━━━━━\u001b[0m \u001b[32m3.1/3.1 MB\u001b[0m \u001b[31m50.2 MB/s\u001b[0m eta \u001b[36m0:00:00\u001b[0m\n",
            "\u001b[2K     \u001b[90m━━━━━━━━━━━━━━━━━━━━━━━━━━━━━━━━━━━━━━━━\u001b[0m \u001b[32m75.6/75.6 kB\u001b[0m \u001b[31m7.5 MB/s\u001b[0m eta \u001b[36m0:00:00\u001b[0m\n",
            "\u001b[2K     \u001b[90m━━━━━━━━━━━━━━━━━━━━━━━━━━━━━━━━━━━━━━━━\u001b[0m \u001b[32m12.3/12.3 MB\u001b[0m \u001b[31m66.6 MB/s\u001b[0m eta \u001b[36m0:00:00\u001b[0m\n",
            "\u001b[2K     \u001b[90m━━━━━━━━━━━━━━━━━━━━━━━━━━━━━━━━━━━━━━━━\u001b[0m \u001b[32m82.2/82.2 kB\u001b[0m \u001b[31m3.2 MB/s\u001b[0m eta \u001b[36m0:00:00\u001b[0m\n",
            "\u001b[2K     \u001b[90m━━━━━━━━━━━━━━━━━━━━━━━━━━━━━━━━━━━━━━━━\u001b[0m \u001b[32m77.9/77.9 kB\u001b[0m \u001b[31m7.2 MB/s\u001b[0m eta \u001b[36m0:00:00\u001b[0m\n",
            "\u001b[2K     \u001b[90m━━━━━━━━━━━━━━━━━━━━━━━━━━━━━━━━━━━━━━━━\u001b[0m \u001b[32m58.3/58.3 kB\u001b[0m \u001b[31m5.7 MB/s\u001b[0m eta \u001b[36m0:00:00\u001b[0m\n",
            "\u001b[2K     \u001b[90m━━━━━━━━━━━━━━━━━━━━━━━━━━━━━━━━━━━━━━━━\u001b[0m \u001b[32m320.7/320.7 kB\u001b[0m \u001b[31m5.3 MB/s\u001b[0m eta \u001b[36m0:00:00\u001b[0m\n",
            "\u001b[2K     \u001b[90m━━━━━━━━━━━━━━━━━━━━━━━━━━━━━━━━━━━━━━━━\u001b[0m \u001b[32m1.1/1.1 MB\u001b[0m \u001b[31m14.5 MB/s\u001b[0m eta \u001b[36m0:00:00\u001b[0m\n",
            "\u001b[?25h"
          ]
        }
      ],
      "source": [
        "!pip install -q cohere\n",
        "!pip install -q openai\n",
        "!pip install -q tiktoken"
      ]
    },
    {
      "cell_type": "code",
      "execution_count": 3,
      "metadata": {
        "id": "a9i3slxEFq7S"
      },
      "outputs": [],
      "source": [
        "import openai\n",
        "import tiktoken\n",
        "from getpass import getpass"
      ]
    },
    {
      "cell_type": "code",
      "source": [
        "api_key = getpass('Input yout OpenAI API Key here: ')\n",
        "openai.api_key = api_key"
      ],
      "metadata": {
        "colab": {
          "base_uri": "https://localhost:8080/"
        },
        "id": "1CDUfP0v5qON",
        "outputId": "2070e3ae-2e60-4b5c-836c-0bd2a0dab562"
      },
      "execution_count": 4,
      "outputs": [
        {
          "name": "stdout",
          "output_type": "stream",
          "text": [
            "Input yout OpenAI API Key here: ··········\n"
          ]
        }
      ]
    },
    {
      "cell_type": "markdown",
      "source": [
        "\n",
        "https://openai.com/pricing\n",
        "\n",
        "|model|tokens(K)|Input (\\$/1M tokens)|Output(\\$/1M tokens)|\n",
        "|---|---:|---:|---:|\n",
        "|gpt-3.5-turbo-instruct|4|1.50|2.00|\n",
        "|gpt-3.5-turbo-0125|16|1.50|0.50|\n",
        "|gpt-4|8|30.00|60.00|\n",
        "|gpt-4-turbo|128|10.00|30.00|\n",
        "|gpt-4o|128|5.00|15.00|"
      ],
      "metadata": {
        "id": "hzm35Cq9sLTV"
      }
    },
    {
      "cell_type": "code",
      "execution_count": 5,
      "metadata": {
        "id": "M8xIVy4FES2M"
      },
      "outputs": [],
      "source": [
        "api_model = 'gpt-4o'\n",
        "encoding = tiktoken.encoding_for_model(api_model)"
      ]
    },
    {
      "cell_type": "code",
      "source": [
        "def get_num_input_tokens(content):\n",
        "    num_template_tokens = 4 # <|start|>user\\n{content}<|end|>\n",
        "    num_priming_tokens = 3 # <|start|>assistant<|message|>\n",
        "    num_tokens = len(encoding.encode(content))\n",
        "    num_tokens += num_template_tokens + num_priming_tokens\n",
        "    return num_tokens"
      ],
      "metadata": {
        "id": "RpDAR_Xf84vD"
      },
      "execution_count": 6,
      "outputs": []
    },
    {
      "cell_type": "code",
      "execution_count": 7,
      "metadata": {
        "id": "RVVHca66uL7o"
      },
      "outputs": [],
      "source": [
        "def calc_price(num_input_tokens, num_output_tokens, input_unit=5.0, output_unit=15.0):\n",
        "    dollars = (num_input_tokens*input_unit + num_output_tokens*output_unit) / 1000000\n",
        "    return round(dollars, 5)\n",
        "\n",
        "def estimate_price(num_input_tokens, input_to_output):\n",
        "    estimated_output_tokens = num_input_tokens * input_to_output\n",
        "    estimated_price = calc_price(num_input_tokens, estimated_output_tokens)\n",
        "    return estimated_price"
      ]
    },
    {
      "cell_type": "code",
      "execution_count": 8,
      "metadata": {
        "id": "r23B8QnTb5c3"
      },
      "outputs": [],
      "source": [
        "def query_message(message, temperature=0.1, verbose=False):\n",
        "    exceeded = False\n",
        "    messages = [{'role':'user', 'content': message}]\n",
        "\n",
        "    response = openai.chat.completions.create(model=api_model, messages=messages, temperature=temperature)\n",
        "    input_tokens = response.usage.prompt_tokens\n",
        "    output_tokens = response.usage.completion_tokens\n",
        "    if verbose:\n",
        "        print('input tokens:', input_tokens)\n",
        "        print('output tokens:', output_tokens)\n",
        "        print('input to output ratio:', round(output_tokens / input_tokens, 3))\n",
        "        print('price: $', calc_price(input_tokens, output_tokens))\n",
        "    answer = response.choices[0].message.content.strip()\n",
        "\n",
        "    return answer"
      ]
    },
    {
      "cell_type": "markdown",
      "metadata": {
        "id": "W5_Exo1VIX-D"
      },
      "source": [
        "## Data"
      ]
    },
    {
      "cell_type": "markdown",
      "source": [
        "FOMC statement: https://www.federalreserve.gov/newsevents/pressreleases/monetary20240501a.htm\n",
        "\n",
        "FOMC minutes: https://www.federalreserve.gov/monetarypolicy/fomcminutes20240501.htm"
      ],
      "metadata": {
        "id": "iq5wvQFUCdhN"
      }
    },
    {
      "cell_type": "code",
      "source": [
        "import re\n",
        "import requests\n",
        "from bs4 import BeautifulSoup"
      ],
      "metadata": {
        "id": "brSINlKPCdHx"
      },
      "execution_count": 9,
      "outputs": []
    },
    {
      "cell_type": "code",
      "source": [
        "def get_FOMC_text(date, text_type='statement'):\n",
        "    if text_type == 'statement':\n",
        "        url = 'https://www.federalreserve.gov/newsevents/pressreleases/monetary{}a.htm'.format(date)\n",
        "    elif text_type == 'minutes':\n",
        "        url = 'https://www.federalreserve.gov/monetarypolicy/fomcminutes{}.htm'.format(date)\n",
        "    raw = requests.get(url)\n",
        "    html = BeautifulSoup(raw.text, 'html.parser')\n",
        "    text = html.find('div', id='article').get_text()\n",
        "    return text"
      ],
      "metadata": {
        "id": "Ipb_c5OxI9AC"
      },
      "execution_count": 10,
      "outputs": []
    },
    {
      "cell_type": "code",
      "source": [
        "fomc_dates = ['20230201', '20230322', '20230503', '20230614', '20230726', '20230920', '20231101', '20231213', '20240131', '20240320', '20240501']\n",
        "statement_list = []\n",
        "minutes_list = []\n",
        "for fomc_date in fomc_dates:\n",
        "    print(fomc_date)\n",
        "    statement = get_FOMC_text(fomc_date, 'statement')\n",
        "    statement = re.sub('\\n+', '\\n', statement)\n",
        "    statement_list.append(statement)\n",
        "    minutes = get_FOMC_text(fomc_date, 'minutes')\n",
        "    minutes_list.append(minutes)"
      ],
      "metadata": {
        "id": "y-OOqw0LOft5",
        "colab": {
          "base_uri": "https://localhost:8080/"
        },
        "outputId": "cd93b169-63d2-4f65-e7c3-b74ac931ebff"
      },
      "execution_count": 11,
      "outputs": [
        {
          "output_type": "stream",
          "name": "stdout",
          "text": [
            "20230201\n",
            "20230322\n",
            "20230503\n",
            "20230614\n",
            "20230726\n",
            "20230920\n",
            "20231101\n",
            "20231213\n",
            "20240131\n",
            "20240320\n",
            "20240501\n"
          ]
        }
      ]
    },
    {
      "cell_type": "code",
      "source": [
        "statement_list[-1]"
      ],
      "metadata": {
        "colab": {
          "base_uri": "https://localhost:8080/",
          "height": 123
        },
        "id": "yJvybzz_M192",
        "outputId": "cb744738-e8d0-42c0-9bd3-4f3711307294"
      },
      "execution_count": 12,
      "outputs": [
        {
          "output_type": "execute_result",
          "data": {
            "text/plain": [
              "\"\\nMay 01, 2024\\nFederal Reserve issues FOMC statement\\nFor release at 2:00 p.m. EDT                     \\r\\n                \\r\\n                \\nShare\\nRecent indicators suggest that economic activity has continued to expand at a solid pace. Job gains have remained strong, and the unemployment rate has remained low. Inflation has eased over the past year but remains elevated. In recent months, there has been a lack of further progress toward the Committee's 2 percent inflation objective.\\nThe Committee seeks to achieve maximum employment and inflation at the rate of 2 percent over the longer run. The Committee judges that the risks to achieving its employment and inflation goals have moved toward better balance over the past year. The economic outlook is uncertain, and the Committee remains highly attentive to inflation risks.\\nIn support of its goals, the Committee decided to maintain the target range for the federal funds rate at 5-1/4 to 5-1/2 percent. In considering any adjustments to the target range for the federal funds rate, the Committee will carefully assess incoming data, the evolving outlook, and the balance of risks. The Committee does not expect it will be appropriate to reduce the target range until it has gained greater confidence that inflation is moving sustainably toward 2 percent. In addition, the Committee will continue reducing its holdings of Treasury securities and agency debt and agency mortgageâ\\x80\\x91backed securities. Beginning in June, the Committee will slow the pace of decline of its securities holdings by reducing the monthly redemption cap on Treasury securities from $60 billion to $25 billion. The Committee will maintain the monthly redemption cap on agency debt and agency mortgageâ\\x80\\x91backed securities at $35 billion and will reinvest any principal payments in excess of this cap into Treasury securities. The Committee is strongly committed to returning inflation to its 2 percent objective.\\nIn assessing the appropriate stance of monetary policy, the Committee will continue to monitor the implications of incoming information for the economic outlook. The Committee would be prepared to adjust the stance of monetary policy as appropriate if risks emerge that could impede the attainment of the Committee's goals. The Committee's assessments will take into account a wide range of information, including readings on labor market conditions, inflation pressures and inflation expectations, and financial and international developments.\\nVoting for the monetary policy action were Jerome H. Powell, Chair; John C. Williams, Vice Chair; Thomas I. Barkin; Michael S. Barr; Raphael W. Bostic; Michelle W. Bowman; Lisa D. Cook; Mary C. Daly; Philip N. Jefferson; Adriana D. Kugler; Loretta J. Mester; and Christopher J. Waller.\\nFor media inquiries, please email [email\\xa0protected] or call 202-452-2955.\\nImplementation Note issued May 1, 2024\\n\""
            ],
            "application/vnd.google.colaboratory.intrinsic+json": {
              "type": "string"
            }
          },
          "metadata": {},
          "execution_count": 12
        }
      ]
    },
    {
      "cell_type": "code",
      "source": [
        "minutes_list[-1]"
      ],
      "metadata": {
        "colab": {
          "base_uri": "https://localhost:8080/",
          "height": 123
        },
        "id": "pn3XrMvRJyL2",
        "outputId": "878e2125-30d3-4962-e8b9-58a513f4f580"
      },
      "execution_count": 13,
      "outputs": [
        {
          "output_type": "execute_result",
          "data": {
            "text/plain": [
              "'\\nMinutes of the Federal Open Market Committee\\n\\nApril 30-May 1, 2024\\nA joint meeting of the Federal Open Market Committee and the Board of Governors of the Federal Reserve System was held in the offices of the Board of Governors on Tuesday, April 30, 2024, at 10:00 a.m. and continued on Wednesday, May 1, 2024, at 9:00 a.m.1\\nAttendance\\r\\nJerome H. Powell, Chair\\r\\nJohn C. Williams, Vice Chair\\r\\nThomas I. Barkin\\r\\nMichael S. Barr\\r\\nRaphael W. Bostic\\r\\nMichelle W. Bowman\\r\\nLisa D. Cook\\r\\nMary C. Daly\\r\\nPhilip N. Jefferson\\r\\nAdriana D. Kugler\\r\\nLoretta J. Mester\\r\\nChristopher J. Waller\\nSusan M. Collins, Austan D. Goolsbee, Alberto G. Musalem, Jeffrey R. Schmid, and Sushmita Shukla, Alternate Members of the Committee\\nPatrick Harker, Neel Kashkari, and Lorie K. Logan, Presidents of the Federal Reserve Banks of Philadelphia, Minneapolis, and Dallas, respectively\\nJoshua Gallin, Secretary\\r\\nMatthew M. Luecke, Deputy Secretary\\r\\nBrian J. Bonis, Assistant Secretary\\r\\nMichelle A. Smith, Assistant Secretary\\r\\nMark E. Van Der Weide, General Counsel\\r\\nRichard Ostrander, Deputy General Counsel\\r\\nTrevor A. Reeve, Economist\\r\\nStacey Tevlin, Economist\\r\\nBeth Anne Wilson, Economist\\nShaghil Ahmed, James A. Clouse, Brian M. Doyle, William Wascher, and Alexander L. Wolman, Associate Economists\\nRoberto Perli, Manager, System Open Market Account\\nJulie Ann Remache, Deputy Manager, System Open Market Account\\nJose Acosta, Senior System Administrator II, Division of Information Technology, Board\\nAlyssa Arute,2 Manager, Division of Reserve Bank Operations and Payment Systems, Board\\nAyelen Banegas, Principal Economist, Division of Monetary Affairs, Board\\nBecky C. Bareford, First Vice President, Federal Reserve Bank of Richmond\\nPenelope A. Beattie,3 Section Chief, Office of the Secretary, Board\\nCarol C. Bertaut, Senior Adviser, Division of International Finance, Board\\nDavid Bowman, Senior Associate Director, Division of Monetary Affairs, Board\\nMarco Cipriani, Research Department Head, Federal Reserve Bank of New York\\nTodd E. Clark, Senior Vice President, Federal Reserve Bank of Cleveland\\nJuan C. Climent, Special Adviser to the Board, Division of Board Members, Board\\nDaniel M. Covitz, Deputy Director, Division of Research and Statistics, Board\\nStephanie E. Curcuru, Deputy Director, Division of International Finance, Board\\nRyan Decker, Special Adviser to the Board, Division of Board Members, Board\\nWendy E. Dunn, Adviser, Division of Research and Statistics, Board\\nRochelle M. Edge, Deputy Director, Division of Monetary Affairs, Board\\nEric C. Engstrom, Associate Director, Division of Monetary Affairs, Board\\nCharles A. Fleischman, Senior Adviser, Division of Research and Statistics, Board\\nJenn Gallagher, Assistant to the Board, Division of Board Members, Board\\nPeter M. Garavuso, Lead Information Manager, Division of Monetary Affairs, Board\\nCarlos Garriga, Senior Vice President, Federal Reserve Bank of St. Louis\\nMichael S. Gibson, Director, Division of Supervision and Regulation, Board\\nJoseph W. Gruber, Executive Vice President, Federal Reserve Bank of Kansas City\\nValerie S. Hinojosa, Section Chief, Division of Monetary Affairs, Board\\nJane E. Ihrig, Special Adviser to the Board, Division of Board Members, Board\\nBenjamin K. Johannsen, Assistant Director, Division of Monetary Affairs, Board\\nMichael T. Kiley, Deputy Director, Division of Financial Stability, Board\\nDon H. Kim,2 Senior Adviser, Division of Monetary Affairs, Board\\nAndreas Lehnert, Director, Division of Financial Stability, Board\\nKurt F. Lewis, Special Adviser to the Chair, Division of Board Members, Board\\nDan Li, Assistant Director, Division of Monetary Affairs, Board\\nLaura Lipscomb, Special Adviser to the Board, Division of Board Members, Board\\nDavid López-Salido, Senior Associate Director, Division of Monetary Affairs, Board\\nJoshua S. Louria, Group Manager, Division of Monetary Affairs, Board\\nBenjamin W. McDonough, Deputy Secretary and Ombudsman, Office of the Secretary, Board\\nAnn E. Misback, Secretary, Office of the Secretary, Board\\nRaven Molloy, Deputy Associate Director, Division of Research and Statistics, Board\\nNorman J. Morin, Associate Director, Division of Research and Statistics, Board\\nMakoto Nakajima, Vice President, Federal Reserve Bank of Philadelphia\\nMichelle M. Neal, Head of Markets, Federal Reserve Bank of New York\\nAnna Paulson, Executive Vice President, Federal Reserve Bank of Chicago\\nEugenio P. Pinto, Special Adviser to the Board, Division of Board Members, Board\\nOdelle Quisumbing,3 Assistant to the Secretary, Office of the Secretary, Board\\nAndrea Raffo, Senior Vice President, Federal Reserve Bank of Minneapolis\\nSamuel Schulhofer-Wohl, Senior Vice President, Federal Reserve Bank of Dallas\\nZeynep Senyuz, Deputy Associate Director, Division of Monetary Affairs, Board\\nMark Spiegel, Senior Policy Advisor, Federal Reserve Bank of San Francisco\\nJohn J. Stevens, Senior Associate Director, Division of Research and Statistics, Board\\nBalint Szoke,4 Senior Economist, Division of Monetary Affairs, Board\\nYannick Timmer, Senior Economist, Division of Monetary Affairs, Board\\nClara Vega, Special Adviser to the Board, Division of Board Members, Board\\nAnnette Vissing-Jørgensen, Senior Adviser, Division of Monetary Affairs, Board\\nJeffrey D. Walker,2 Associate Director, Division of Reserve Bank Operations and Payment Systems, Board\\nJonathan Willis, Vice President, Federal Reserve Bank of Atlanta\\nPaul R. Wood, Special Adviser to the Board, Division of Board Members, Board\\nEgon Zakrajsek, Executive Vice President, Federal Reserve Bank of Boston\\nRebecca Zarutskie, Special Adviser to the Board, Division of Board Members, Board\\nDevelopments in Financial Markets and Open Market Operations \\nThe manager turned first to a review of developments in financial markets. Domestic data releases over the intermeeting period pointed to inflation being more persistent than previously expected and to a generally resilient economy. Policy expectations shifted materially in response. The policy rate path derived from futures prices implied fewer than two 25 basis point rate cuts by year-end. The modal path based on options prices was quite flat, suggesting at most one such rate cut in 2024. The median of the modal paths of the federal funds rate obtained from the Open Market Desk\\'s Survey of Primary Dealers and Survey of Market Participants also indicated fewer cuts this year than previously thought. Respondents\\' baseline expectations for the timing of the first rate cutâ\\x80\\x94which had been concentrated around June in the March surveysâ\\x80\\x94shifted out significantly and became more diffuse.\\nTreasury yields rose materially over the intermeeting period. At shorter maturities, the increase appeared to largely reflect higher inflation compensation, while at longer maturities, it was attributable mostly to a higher expected path for the real policy rate and higher real risk premiums. Model estimates suggested that inflation expectations rose some, but mostly at shorter horizons. Longer-term inflation expectations appeared to remain well anchored. Broad equity prices fell over the period, as higher interest rates weighed on valuations, while recent earnings reports, which were generally solid, provided some support. The dollar strengthened as several foreign central banks were expected to start easing policy before the Federal Reserve. Overall, higher yields and lower equity prices, together with the stronger dollar, resulted in a tightening of financial conditions over the period.\\nThe manager then discussed expectations regarding balance sheet policy. Respondents to the Desk surveys expected a slowing in the pace of balance sheet reduction to begin soon; the median respondent projected that the slowdown would start in June, one month earlier than in the March surveys. The average probability distribution of the size of the System Open Market Account (SOMA) portfolio at the end of runoff had become a bit more concentrated, and its probability-weighted mean was slightly lower than in the March surveys. Overall, the survey results suggested that respondents\\' expectations for a slowdown of balance sheet runoff had been decoupled from expectations about the timing and extent of rate cuts, and that respondents understood that a slowdown in the pace of runoff was not likely to translate to a higher terminal size of the portfolio.\\nThe manager then turned to money markets and Desk operations. Unsecured overnight rates were stable over the intermeeting period. In secured funding markets, rates on overnight repurchase agreements firmed somewhat over the March quarter-end reporting date, in line with recent history. Market participants generally reported that the return of somewhat higher rates around reporting dates had not been associated with any issues in market functioning. Despite the ongoing balance sheet runoff, take-up at the overnight reverse repurchase agreement (ON RRP) facility was largely steady over the period, likely reflecting fewer attractive private-market alternatives for money market funds (MMFs) amid a recent reduction in Treasury bills outstanding as well as a decrease in MMFs\\' weighted average maturities. ON RRP usage was also likely supported by typical month-end dynamics. The staff and respondents to the Desk\\'s Survey of Primary Dealers expected ON RRP take-up to decline in coming months.\\nThe manager provided an update on reserve conditions. Over the intermeeting period, the federal funds market continued to be insensitive to day-to-day changes in the supply of reserves and suggested that reserves remained abundant. The manager discussed various other indicators that supported the same conclusion.\\nThe Committee voted unanimously to renew the reciprocal currency arrangements with the Bank of Canada and the Bank of Mexico; these arrangements are associated with the Federal Reserve\\'s participation in the North American Framework Agreement of 1994. In addition, the Committee voted unanimously to renew the dollar and foreign currency liquidity swap arrangements with the Bank of Canada, the Bank of England, the Bank of Japan, the European Central Bank, and the Swiss National Bank. The votes to renew the Federal Reserve\\'s participation in these standing arrangements occur annually at the April or May FOMC meeting.\\nBy unanimous vote, the Committee ratified the Desk\\'s domestic transactions over the intermeeting period. There were no intervention operations in foreign currencies for the System\\'s account during the intermeeting period.\\nStaff Review of the Economic Situation\\r\\nThe information available at the time of the April 30â\\x80\\x93May 1 meeting indicated that growth in U.S. real gross domestic product (GDP) stepped down in the first quarter of 2024 from the robust pace seen over the second half of 2023. Labor market conditions remained strong. Consumer price inflationâ\\x80\\x94as measured by the 12â\\x80\\x91month change in the price index for personal consumption expenditures (PCE)â\\x80\\x94slowed significantly over the past year but had moved up slightly in recent months and remained above 2 percent.\\nLabor demand and supply continued to move into better balance, though the speed of this realignment appeared to have slowed in recent months. Total nonfarm payroll employment increased at a faster average monthly pace in the first quarter of 2024 than in the fourth quarter of 2023. The unemployment rate ticked down to 3.8 percent in March, while the labor force participation rate and the employment-to-population ratio both moved up 0.2 percentage point. The unemployment rate for African Americans increased, and the rate for Hispanics moved down; both rates were higher than those for Asians and for Whites. The 12-month changes in the employment cost index (ECI) and average hourly earnings for all employees both declined in March relative to a year earlier, but the 3â\\x80\\x91month change in the ECI stepped up noticeably from the average pace that prevailed over the second half of 2023.\\nRegarding consumer price inflation, total PCE prices increased 2.7 percent over the 12 months ending in March, while core PCE price inflationâ\\x80\\x94which excludes changes in energy prices and many consumer food pricesâ\\x80\\x94was 2.8 percent over the same period. Both inflation measures were considerably lower than their year-earlier levels but had surprised to the upside. Al\\xadthough some measures of short-term inflation expectations had moved up, longer-term expectations were little changed and stood at levels consistent with those that prevailed before the pandemic.\\nAccording to the advance estimate, real GDP rose modestly in the first quarter. However, private domestic final purchases (PDFP)â\\x80\\x94which comprises PCE and private fixed investment and which often provides a better signal than GDP of underlying economic momentumâ\\x80\\x94posted an increase that was similar to the solid gains seen over the second half of 2023.\\nReal exports of goods and services grew at a tepid pace overall in the first quarter, with gains in exports of foods, consumer goods, and capital goods being mostly offset by declines in exports of industrial supplies. By contrast, real imports rose at a brisk pace, boosted in part by a large increase in imports of capital goods. All told, net exports made a significant negative contribution to U.S. GDP growth in the first quarter.\\nForeign GDP growth is estimated to have picked up in the first quarter from its subdued pace in the previous quarter. In Europe, economic activity resumed expanding following modest contractions in several economies amid monetary policy restraint and the repercussions of the 2022 energy shock. Growth stepped up in China, led by strong exports, but property-sector indicators remained weak. Elsewhere in emerging Asia, exports rebounded further from last year\\'s lows, lifted by robust global demand for high-tech goods.\\nHeadline inflation eased modestly further in the advanced foreign economies (AFEs) in the first quarter, but inched up in the emerging market economies in part because of food price pressure caused by adverse weather in some countries. Most major AFE central banks kept their policy rates unchanged over the intermeeting period, and some reiterated that policy rate cuts could be appropriate at coming meetings.\\nStaff Review of the Financial Situation\\r\\nOver the intermeeting period, the market-implied path for the federal funds rate through 2024 increased markedly, and federal funds futures rates suggested that market participants were placing lower odds on significant policy easing in 2024 than they did just before the March FOMC meeting. Consistent with the rise in the implied policy path, nominal Treasury yields at all maturities also rose substantially as investors appeared to reassess the persistence of inflation and the implications for monetary policy. Market-based measures of interest rate uncertainty remained elevated by historical standards.\\nBroad stock price indexes declined moderately, on net, over the intermeeting period. Yield spreads on investment-grade corporate bonds were about unchanged, and those on speculative-grade corporate bonds increased moderately. The one-month option-implied volatility on the S&P 500 increased significantly over the period, apparently reflecting rising geopolitical tensions, but remained at moderate levels by historical standards.\\nOver the intermeeting period, incoming foreign economic data and central bank communications were largely consistent with market participants\\' expectations that most AFE central banks will lower policy rates at coming meetings. Nonetheless, AFE sovereign bond yields rose, primarily reflecting spillovers from higher U.S. yields. Wider U.S.â\\x80\\x93AFE yield differentials and, to a lesser extent, heightened geopolitical tensions in the Middle East contributed to a moderate increase in the broad dollar index. Though geopolitical tensions weighed on risk sentiment at times, prices of foreign risky assets were little changed on balance.\\nConditions in U.S. short-term funding markets remained stable over the intermeeting period, with typical dynamics observed surrounding quarter-end. Usage of the ON RRP facility leveled off during the first few weeks of the period, primarily reflecting MMFs slowing their re-allocation into Treasury bills.\\nIn domestic credit markets, borrowing costs generally rose somewhat over the intermeeting period from already elevated levels. Rates on 30-year conforming residential mortgages increased and remained near recent high levels. In contrast, interest rates on new credit card offers edged down in February. Interest rates on small business loans increased in March and remained at elevated levels. Meanwhile, price terms for commercial and industrial (C&I) loans were little changed, on net, in the first quarter of 2024 after several quarters of tightening. Yields rose on a broad array of fixed-income securities, including commercial mortgage-backed securities (CMBS), investment- and speculative-grade corporate bonds, and residential mortgage-backed securities.\\nFinancing through capital markets and nonbank lenders was readily accessible for public corporations and large and middle-market private corporations, and credit availability for leveraged loan borrowers appeared to improve further over the intermeeting period. For small firms, the volume of loan originations ticked up in February despite the tightening of credit standards. Meanwhile, C&I loan balances declined in the first quarter, in line with the cumulative tightening in standards over the past two years. In the April Senior Loan Officer Opinion Survey on Bank Lending Practices (SLOOS), large banks kept standards and most lending terms for C&I loans unchanged, on net, while smaller banks continued to tighten standards and terms on net.\\nBanks reported tightening standards further in the April SLOOS for all loan categories of commercial real estate (CRE) loans. The growth of bank CRE loan balances slowed notably over the past year, reflecting the tightening of credit standards over this period, though growth of CRE loan balances picked up modestly in the first quarter.\\nCredit remained available for most consumers, despite some signs of recent tightening. For residential real estate borrowers, conforming and government-backed loans remained generally available. Credit card balances continued to grow at a robust pace, though a significant net share of SLOOS respondents indicated that lending standards for credit cards tightened further in the first quarter. Growth in auto lending moderated in January and February, and a modest net share of banks reported in the SLOOS that they tightened lending standards on auto loans in the first quarter.\\nAl\\xadthough credit quality for household loans remained solid, on balance, delinquency rates for credit cards and auto loans in the fourth quarter remained notably above their levels just before the pandemic. For residential mortgages, delinquency rates across loan types were largely unchanged in February. The credit quality of nonfinancial firms borrowing in the corporate bond and leveraged loan markets remained stable overall. The average delinquency rate for loans in CMBS pools ticked down in March but remained at elevated levels. Meanwhile, the share of nonperforming CRE loans at banksâ\\x80\\x94defined as loans past due 90 days or in nonaccrual statusâ\\x80\\x94rose further through March, especially for loans secured by office buildings.\\nThe staff provided an update on its assessment of the stability of the U.S. financial system. On balance, the staff continued to characterize the system\\'s financial vulnerabilities as notable but raised the assessment of vulnerabilities in asset valuations to elevated, as valuations across a range of markets appeared high relative to risk-adjusted cash flows. House prices remained elevated relative to fundamentals such as rents and Treasury yields, though the fraction of mortgage borrowers with small equity positions remained low. CRE prices continued to decline, especially in the multifamily and office sectors, and vacancy rates in these sectors remained elevated. Vulnerabilities associated with business and household debt were characterized as moderate. Nonfinancial business leverage was high, but the ability of firms to service their debt remained solid, partly due to robust earnings.\\nLeverage in the financial sector was characterized as notable. Regulatory capital ratios in the banking sector remained high. However, the fair value of bank assets was estimated to have fallen further in the first quarter, reflecting the substantial duration risk on bank balance sheets. For the nonbank sector, the prevalence of the basis trade by hedge funds appeared to have declined from its peak but remained elevated by historical standards.\\nFunding risks were also characterized as notable. Assets in prime MMFs and other cash management vehicles continued to grow steadily. The staff assessed that the financial stability risks associated with the fast-growing private credit sector were limited so far because of the modest leverage used by private debt funds and business development companies and the limited maturity mismatch present in their funding vehicles. However, the staff also noted the growing connections between private credit and the banking sector, the growth of some forms of private credit, and the fact that the private credit market has yet to experience a severe credit downturn.\\nStaff Economic Outlook\\r\\nThe economic forecast prepared by the staff for the Aprilâ\\x80\\x93May meeting was similar to the March projection. The economy was expected to maintain its high rate of resource utilization over the next few years, with projected output growth roughly similar to the staff\\'s estimate of potential growth. The unemployment rate was expected to edge down slightly over 2024 as labor market functioning improved further, and to remain roughly steady thereafter.\\nTotal and core PCE price inflation were both projected to move lower this year relative to last year, though the expected pace of disinflation was slower than in the March projection, as incoming data pointed to more persistence in inflation in coming months. Inflation was expected to decline further beyond this year as demand and supply in product and labor markets continued to move into better balance; by 2026, total and core PCE price inflation were expected to be close to 2 percent.\\nThe staff continued to view the uncertainty around the baseline projection as close to the average over the past 20 years. Risks to the inflation forecast were seen as tilted to the upside, reflecting the possibility that supply-side disruptions or unexpectedly persistent inflation dynamics could materialize. The risks around the forecast for economic activity were seen as skewed to the downside on the grounds that more-persistent inflation could result in tighter financial conditions than in the staff\\'s baseline projection; in addition, deteriorating household financial positions, especially for lower-income households, might prove to be a larger drag on activity than the staff anticipated.\\nParticipants\\' Views on Current Conditions and the Economic Outlook\\r\\nParticipants observed that while inflation had eased over the past year, in recent months there had been a lack of further progress toward the Committee\\'s 2 percent objective. The recent monthly data had showed significant increases in components of both goods and services price inflation. In particular, inflation for core services excluding housing had moved up in the first quarter compared with the fourth quarter of last year, and prices of core goods posted their first three-month increase in several months. In addition, housing services inflation had slowed less than had been anticipated based on the smaller increases in measures of market rents over the past year. A few participants remarked that unusually large seasonal patterns could have contributed to January\\'s large increase in PCE inflation, and several participants noted that some components that typically display volatile price changes had boosted recent readings. However, some participants emphasized that the recent increases in inflation had been relatively broad based and therefore should not be overly discounted.\\nParticipants generally commented that they remained highly attentive to inflation risks. They also remained concerned that elevated inflation continued to harm the purchasing power of households, especially those least able to meet the higher costs of essentials like food, housing, and transportation.\\nParticipants noted that they continued to expect that inflation would return to 2 percent over the medium term. However, recent data had not increased their confidence in progress toward 2 percent and, accordingly, had suggested that the disinflation process would likely take longer than previously thought. Participants discussed several factors that, in conjunction with appropriately restrictive monetary policy, could support the return of inflation to the Committee\\'s goal over time. One was a further reduction in housing services price inflation as lower readings for rent growth on new leases continued to pass through to this category of inflation. However, many participants commented that the pass-through would likely take place only gradually or noted that a reacceleration of market rents could reduce the effect. Several participants stated that core nonhousing services price inflation could resume its decline as wage growth slows further with labor demand and supply moving into better balance, aided by higher labor force participation and strong immigration flows. In addition, many participants commented that ongoing increases in productivity growth would support disinflation if sustained, though the outlook for productivity growth was regarded as uncertain. Several participants said that business contacts in their Districts reported increased difficulty in raising their output prices, while a few participants reported a continued ability of firms in their Districts to pass on higher costs to consumers. Al\\xadthough some measures of short-term inflation expectations from surveys of consumers had increased in recent months, medium- and longer-term measures of expected inflation had remained well anchored, which was seen as crucial for meeting the Committee\\'s inflation goal on a sustained basis. While supply chain improvements had supported disinflation for goods prices over the previous year, participants commented that an expected more gradual pace of such improvements could slow progress on inflation. Several participants commented that growth of aggregate demand would likely have to slow from its strong pace in recent quarters for inflation to move sustainably toward the Committee\\'s goal.\\nParticipants assessed that demand and supply in the labor market, on net, were continuing to come into better balance, though at a slower rate. Nevertheless, they saw conditions as having generally remained tight amid recent strong payroll growth and a still-low unemployment rate. Participants cited a variety of indicators that suggested some easing in labor market tightness, including declining job vacancies, a lower quits rate, and a reduced ratio of job openings to unemployed workers. Some participants indicated that business contacts had reported less difficulty in hiring or retaining workers, al\\xadthough contacts in several Districts continued to report tight labor conditions, especially in the health care and construction sectors. Many participants commented that the better balance between labor demand and supply had contributed to an easing of nominal wage pressures. Even so, a number of participants noted that some measures of labor cost growth, including the ECI, had not eased in recent months, and a couple of participants remarked that negotiated compensation agreements had added to wage pressures in their Districts. Many participants noted that, during the past year, labor supply had been boosted by increased labor force participation rates as well as by immigration. Participants further commented that recent estimates of greater immigration in the past few years and an overall increase in labor supply could help explain the strength in employment gains even as the unemployment rate had remained roughly flat and wage pressures had eased.\\nParticipants noted that recent indicators suggested that economic activity had continued to expand at a solid pace. Real GDP growth in the first quarter had moderated relative to the second half of last year, but PDFP growth maintained a strong pace. High interest rates appeared to weigh on consumer durables purchases in the first quarter, and growth of business fixed investment remained modest. Despite the high interest rates, residential investment grew more strongly in the first quarter than its modest pace in the second half of last year.\\nAl\\xadthough recent PDFP data suggested continued strong economic momentum, participants generally did not interpret the data as indicating a further acceleration of activity and expected that GDP growth would slow from last year\\'s strong pace. A number of participants commented that high rates of immigration could support economic activity by boosting labor supply and contributing to aggregate demand. Participants noted the important influence of productivity growth for the economic outlook. Some participants suggested that the recent increase in productivity growth might not persist because it reflected one-time adjustments to the level of productivity or reflected continued elevated volatility in the data over the past several years. A few participants commented that higher productivity growth might be sustained by the incorporation of technologies such as artificial intelligence into existing business operations or by high rates of new business formation in the technology sector.\\nIn their discussion of the outlook for the household sector, participants observed that consumer spending remained firm in the first quarter, supported by low unemployment and solid income growth. A number of participants judged that consumption growth was likely to moderate this year, as growth in labor income was expected to slow and the financial positions of many households were expected to weaken. Many participants noted signs that the finances of low- and moderate-income households were increasingly coming under pressure, which these participants saw as a downside risk to the outlook for consumption. They pointed to increased usage of credit cards and buy-now-pay-later services, as well as increased delinquency rates for some types of consumer loans. In addition, elevated housing costs were adding to financial strains for lower-income households. A couple of participants noted that financial conditions appeared favorable for wealthier households, which account for a large portion of aggregate consumption, with hefty wealth gains resulting from recent equity and house price increases.\\nBusiness contacts in many Districts reported a steady or stable pace of economic activity, while contacts in a couple of Districts conveyed increased optimism about the outlook. A few participants noted that government spending was supporting business expansion in their Districts. Consistent with a solid outlook for businesses, a couple of participants noted that their contacts had reported increased investment in technology or in business process improvements that were enhancing productive capacity. Regarding the agricultural sector, a couple of participants noted that lower commodity prices were weighing on farm incomes.\\nParticipants discussed the risks and uncertainties around the economic outlook. They generally noted their uncertainty about the persistence of inflation and agreed that recent data had not increased their confidence that inflation was moving sustainably toward 2 percent. Some participants pointed to geopolitical events or other factors resulting in more severe supply bottlenecks or higher shipping costs, which could put upward pressure on prices and weigh on economic growth. The possibility that geopolitical events could generate commodity price increases was also seen as an upside risk to inflation. A number of participants noted uncertainty regarding the degree of restrictiveness of current financial conditions and the associated risk that such conditions were insufficiently restrictive on aggregate demand and inflation. Several participants commented that increased efficiencies and technological innovations could raise productivity growth on a sustained basis, which might allow the economy to grow faster without raising inflation. Participants also noted downside risks to economic activity, including slowing economic growth in China, a deterioration in conditions in domestic CRE markets, or a sharp tightening in financial conditions.\\nIn their discussion of financial stability, participants who commented noted vulnerabilities to the financial system that they assessed warranted monitoring. Participants discussed a range of risks emanating from the banking sector, including unrealized losses on assets resulting from the rise in longer-term yields, high CRE exposure, significant reliance by some banks on uninsured deposits, cyber threats, or increased financial interconnections among banks. Several participants commented on the rapid growth of private credit markets, noting that such developments should be monitored because the sector was becoming more interconnected with other parts of the financial system and that some associated risks may not yet be apparent. A few participants also commented on the importance of measures aimed at increasing resilience in the Treasury market, such as central clearing, or on potential vulnerabilities posed by leveraged investors in the Treasury market. A couple of participants commented that the Federal Reserve should continue to improve the operational efficiency of the discount window. Participants generally noted that high interest rates could contribute to vulnerabilities in the financial system. In that context, a number of participants emphasized that monetary policy should be guided by the outlook for employment and inflation and that other tools should be the primary means to address financial stability risks.\\nIn their consideration of monetary policy at this meeting, all participants judged that, in light of current economic conditions and their implications for the outlook for employment and inflation, as well as the balance of risks, it was appropriate to maintain the target range for the federal funds rate at 5-1/4 to 5-1/2 percent. Participants assessed that maintaining the current target range for the federal funds rate at this meeting was supported by intermeeting data indicating continued solid economic growth and a lack of further progress toward the Committee\\'s 2 percent inflation objective in recent months.\\nParticipants also discussed the process of reducing the Federal Reserve\\'s securities holdings. Participants judged that balance sheet reduction had proceeded smoothly. Almost all participants expressed support for the decision to begin to slow the pace of decline of the Federal Reserve\\'s securities holdings in June by reducing the monthly redemption cap on Treasury securities from $60 billion to $25 billion, maintaining the monthly redemption cap on agency debt and agency mortgageâ\\x80\\x91backed securities (MBS) at $35 billion, and reinvesting any principal payments in excess of the $35 billion cap into Treasury securities. A few participants indicated that they could have supported a continuation of the current pace of balance sheet runoff at this time or a slightly higher redemption cap on Treasury securities than was decided upon. Various participants emphasized that the decision to slow the pace of runoff does not have implications for the stance of monetary policy. Several participants also emphasized that slowing the pace of balance sheet runoff did not mean that the balance sheet would ultimately shrink by less than it would otherwise. Some participants commented that slowing the pace of balance sheet runoff would help facilitate a smooth transition from abundant to ample reserve balances by reducing the likelihood that money markets experience undue stress that could require an early end to runoff. Participants generally assessed that it would be important to continue to monitor indicators of reserve conditions as balance sheet runoff continued. In addition, a few participants commented that the existing redemption cap on agency debt and agency MBS was unlikely to bind at any point over the coming years, but the decision to reinvest any principal payments above that cap into Treasury securities was consistent with the Committee\\'s longer-run intention to hold a portfolio that consists primarily of Treasury securities. A couple of participants commented that it would be useful to begin discussions regarding the appropriate longer-run maturity composition of the SOMA portfolio.\\nIn discussing the policy outlook, participants remarked that the future path of the policy rate would depend on incoming data, the evolving outlook, and the balance of risks. Many participants commented that the public appeared to have a good understanding of the Committee\\'s data-dependent approach in formulating monetary policy and its commitment to achieving its dual-mandate goals of maximum employment and price stability. Various participants also emphasized the importance of continuing to communicate this message. Participants noted disappointing readings on inflation over the first quarter and indicators pointing to strong economic momentum, and assessed that it would take longer than previously anticipated for them to gain greater confidence that inflation was moving sustainably toward 2 percent.\\nIn discussing risk-management considerations that could bear on the policy outlook, participants generally assessed that risks to the achievement of the Committee\\'s employment and inflation goals had moved toward better balance over the past year. Participants remained highly attentive to inflation risks and noted the uncertainty associated with the economic outlook. Al\\xadthough monetary policy was seen as restrictive, many participants commented on their uncertainty about the degree of restrictiveness. These participants saw this uncertainty as coming from the possibility that high interest rates may be having smaller effects than in the past, that longer-run equilibrium interest rates may be higher than previously thought, or that the level of potential output may be lower than estimated. Participants assessed, however, that monetary policy remained well positioned to respond to evolving economic conditions and risks to the outlook. Participants discussed maintaining the current restrictive policy stance for longer should inflation not show signs of moving sustainably toward 2 percent or reducing policy restraint in the event of an unexpected weakening in labor market conditions. Various participants mentioned a willingness to tighten policy further should risks to inflation materialize in a way that such an action became appropriate.\\nCommittee Policy Actions\\r\\nIn their discussions of monetary policy for this meeting, members agreed that economic activity continued to expand at a solid pace. Job gains remained strong, and the unemployment rate remained low. Inflation eased over the past year but remained elevated. Members also concurred that, in recent months, there was a lack of further progress toward the Committee\\'s 2 percent inflation objective and agreed to acknowledge this development in the postmeeting statement. Members judged that the risks to achieving the Committee\\'s employment and inflation goals had moved toward better balance over the past year. Members viewed the economic outlook as uncertain and agreed that they remained highly attentive to inflation risks.\\nIn support of the Committee\\'s goals to achieve maximum employment and inflation at the rate of 2 percent over the longer run, members agreed to maintain the target range for the federal funds rate at 5-1/4 to 5-1/2 percent. Members concurred that, in considering any adjustments to the target range for the federal funds rate, they would carefully assess incoming data, the evolving outlook, and the balance of risks. Members agreed that they did not expect that it would be appropriate to reduce the target range until they have gained greater confidence that inflation is moving sustainably toward 2 percent. In addition, members agreed to continue to reduce the Federal Reserve\\'s holdings of Treasury securities and agency debt and agency MBS. Members decided that, beginning in June, the Committee would slow the pace of decline of its securities holdings by reducing the monthly redemption cap on Treasury securities from $60 billion to $25 billion. In addition, members decided that the Committee would maintain the monthly redemption cap on agency debt and agency MBS at $35 billion and, beginning in June, would reinvest any principal payments in excess of this cap into Treasury securities. All members affirmed their strong commitment to returning inflation to the Committee\\'s 2 percent objective.\\nMembers agreed that, in assessing the appropriate stance of monetary policy, they would continue to monitor the implications of incoming information for the economic outlook. They would be prepared to adjust the stance of monetary policy as appropriate if risks emerged that could impede the attainment of the Committee\\'s goals. Members also agreed that their assessments would take into account a wide range of information, including readings on labor market conditions, inflation pressures and inflation expectations, and financial and international developments.\\nAt the conclusion of the discussion, the Committee voted to direct the Federal Reserve Bank of New York, until instructed otherwise, to execute transactions in the SOMA in accordance with the following domestic policy directive, for release at 2:00 p.m.:\\n\\n\"Effective May 2, 2024, the Federal Open Market Committee directs the Desk to:\\n\\nUndertake open market operations as necessary to maintain the federal funds rate in a target range of 5-1/4 to 5-1/2 percent.\\nConduct standing overnight repurchase agreement operations with a minimum bid rate of 5.5 percent and with an aggregate operation limit of $500 billion.\\nConduct standing overnight reverse repurchase agreement operations at an offering rate of 5.3 percent and with a per-counterparty limit of $160 billion per day.\\nRoll over at auction the amount of principal payments from the Federal Reserve\\'s holdings of Treasury securities maturing in May that exceeds a cap of $60 billion per month. Beginning on June 1, roll over at auction the amount of principal payments from the Federal Reserve\\'s holdings of Treasury securities maturing in each calendar month that exceeds a cap of $25 billion per month. Redeem Treasury coupon securities up to these monthly caps and Treasury bills to the extent that coupon principal payments are less than the monthly caps.\\nReinvest into agency mortgage-backed securities (MBS) the amount of principal payments from the Federal Reserve\\'s holdings of agency debt and agency MBS received in May that exceeds a cap of $35 billion per month. Beginning on June 1, reinvest the amount of principal payments from the Federal Reserve\\'s holdings of agency debt and agency MBS received in each calendar month that exceeds a cap of $35 billion per month into Treasury securities to roughly match the maturity composition of Treasury securities outstanding.\\nAllow modest deviations from stated amounts for reinvestments, if needed for operational reasons.\\nEngage in dollar roll and coupon swap transactions as necessary to facilitate settlement of the Federal Reserve\\'s agency MBS transactions.\"\\n\\n\\nThe vote also encompassed approval of the statement below for release at 2:00 p.m.:\\n\\n\"Recent indicators suggest that economic activity has continued to expand at a solid pace. Job gains have remained strong, and the unemployment rate has remained low. Inflation has eased over the past year but remains elevated. In recent months, there has been a lack of further progress toward the Committee\\'s 2 percent inflation objective.\\nThe Committee seeks to achieve maximum employment and inflation at the rate of 2 percent over the longer run. The Committee judges that the risks to achieving its employment and inflation goals have moved toward better balance over the past year. The economic outlook is uncertain, and the Committee remains highly attentive to inflation risks.\\nIn support of its goals, the Committee decided to maintain the target range for the federal funds rate at 5-1/4 to 5-1/2 percent. In considering any adjustments to the target range for the federal funds rate, the Committee will carefully assess incoming data, the evolving outlook, and the balance of risks. The Committee does not expect it will be appropriate to reduce the target range until it has gained greater confidence that inflation is moving sustainably toward 2 percent. In addition, the Committee will continue reducing its holdings of Treasury securities and agency debt and agency mortgageâ\\x80\\x91backed securities. Beginning in June, the Committee will slow the pace of decline of its securities holdings by reducing the monthly redemption cap on Treasury securities from $60 billion to $25 billion. The Committee will maintain the monthly redemption cap on agency debt and agency mortgageâ\\x80\\x91backed securities at $35 billion and will reinvest any principal payments in excess of this cap into Treasury securities. The Committee is strongly committed to returning inflation to its 2 percent objective.\\nIn assessing the appropriate stance of monetary policy, the Committee will continue to monitor the implications of incoming information for the economic outlook. The Committee would be prepared to adjust the stance of monetary policy as appropriate if risks emerge that could impede the attainment of the Committee\\'s goals. The Committee\\'s assessments will take into account a wide range of information, including readings on labor market conditions, inflation pressures and inflation expectations, and financial and international developments.\"\\n\\nVoting for this action: Jerome H. Powell, John C. Williams, Thomas I. Barkin, Michael S. Barr, Raphael W. Bostic, Michelle W. Bowman, Lisa D. Cook, Mary C. Daly, Philip N. Jefferson, Adriana D. Kugler, Loretta J. Mester, and Christopher J. Waller.\\nVoting against this action: None.\\nConsistent with the Committee\\'s decision to leave the target range for the federal funds rate unchanged, the Board of Governors of the Federal Reserve System voted unanimously to maintain the interest rate paid on reserve balances at 5.4 percent, effective May 2, 2024. The Board of Governors of the Federal Reserve System voted unanimously to approve the establishment of the primary credit rate at the existing level of 5.5 percent, effective May 2, 2024.\\nIt was agreed that the next meeting of the Committee would be held on Tuesdayâ\\x80\\x93Wednesday, June 11â\\x80\\x9312, 2024. The meeting adjourned at 10:05 a.m. on May 1, 2024.\\nNotation Vote\\r\\nBy notation vote completed on April 9, 2024, the Committee unanimously approved the minutes of the Committee meeting held on March 19â\\x80\\x9320, 2024.\\n_______________________\\nJoshua Gallin\\nSecretary\\n\\n1. The Federal Open Market Committee is referenced as the \"FOMC\" and the \"Committee\" in these minutes; the Board of Governors of the Federal Reserve System is referenced as the \"Board\" in these minutes. Return to text\\n2. Attended through the discussion of developments in financial markets and open market operations. Return to text\\n3. Attended through the discussion of the economic and financial situation. Return to text\\n4. Attended Tuesday\\'s session only. Return to text\\n'"
            ],
            "application/vnd.google.colaboratory.intrinsic+json": {
              "type": "string"
            }
          },
          "metadata": {},
          "execution_count": 13
        }
      ]
    },
    {
      "cell_type": "markdown",
      "source": [
        "## Prompt and Price\n",
        "\n",
        "Usage: https://platform.openai.com/account/usage"
      ],
      "metadata": {
        "id": "i9y2UwDc9y1_"
      }
    },
    {
      "cell_type": "code",
      "source": [
        "default_template = 'Translate the following text into Korean:\\n{}'\n",
        "\n",
        "def build_prompt(text, template=default_template):\n",
        "    prompt = template.format(text)\n",
        "    return prompt"
      ],
      "metadata": {
        "id": "MVRgldq00EYQ"
      },
      "execution_count": 14,
      "outputs": []
    },
    {
      "cell_type": "code",
      "source": [
        "prompt = build_prompt(statement_list[-1])\n",
        "print(prompt)"
      ],
      "metadata": {
        "colab": {
          "base_uri": "https://localhost:8080/"
        },
        "id": "iUXyVzgc14kf",
        "outputId": "8b7cd839-7402-4388-a7c6-066cd76ad334"
      },
      "execution_count": 15,
      "outputs": [
        {
          "output_type": "stream",
          "name": "stdout",
          "text": [
            "Translate the following text into Korean:\n",
            "\n",
            "May 01, 2024\n",
            "Federal Reserve issues FOMC statement\n",
            "For release at 2:00 p.m. EDT                     \r\n",
            "                \r\n",
            "                \n",
            "Share\n",
            "Recent indicators suggest that economic activity has continued to expand at a solid pace. Job gains have remained strong, and the unemployment rate has remained low. Inflation has eased over the past year but remains elevated. In recent months, there has been a lack of further progress toward the Committee's 2 percent inflation objective.\n",
            "The Committee seeks to achieve maximum employment and inflation at the rate of 2 percent over the longer run. The Committee judges that the risks to achieving its employment and inflation goals have moved toward better balance over the past year. The economic outlook is uncertain, and the Committee remains highly attentive to inflation risks.\n",
            "In support of its goals, the Committee decided to maintain the target range for the federal funds rate at 5-1/4 to 5-1/2 percent. In considering any adjustments to the target range for the federal funds rate, the Committee will carefully assess incoming data, the evolving outlook, and the balance of risks. The Committee does not expect it will be appropriate to reduce the target range until it has gained greater confidence that inflation is moving sustainably toward 2 percent. In addition, the Committee will continue reducing its holdings of Treasury securities and agency debt and agency mortgageâbacked securities. Beginning in June, the Committee will slow the pace of decline of its securities holdings by reducing the monthly redemption cap on Treasury securities from $60 billion to $25 billion. The Committee will maintain the monthly redemption cap on agency debt and agency mortgageâbacked securities at $35 billion and will reinvest any principal payments in excess of this cap into Treasury securities. The Committee is strongly committed to returning inflation to its 2 percent objective.\n",
            "In assessing the appropriate stance of monetary policy, the Committee will continue to monitor the implications of incoming information for the economic outlook. The Committee would be prepared to adjust the stance of monetary policy as appropriate if risks emerge that could impede the attainment of the Committee's goals. The Committee's assessments will take into account a wide range of information, including readings on labor market conditions, inflation pressures and inflation expectations, and financial and international developments.\n",
            "Voting for the monetary policy action were Jerome H. Powell, Chair; John C. Williams, Vice Chair; Thomas I. Barkin; Michael S. Barr; Raphael W. Bostic; Michelle W. Bowman; Lisa D. Cook; Mary C. Daly; Philip N. Jefferson; Adriana D. Kugler; Loretta J. Mester; and Christopher J. Waller.\n",
            "For media inquiries, please email [email protected] or call 202-452-2955.\n",
            "Implementation Note issued May 1, 2024\n",
            "\n"
          ]
        }
      ]
    },
    {
      "cell_type": "code",
      "source": [
        "num_input_tokens = get_num_input_tokens(prompt)\n",
        "print(num_input_tokens)"
      ],
      "metadata": {
        "colab": {
          "base_uri": "https://localhost:8080/"
        },
        "id": "Kp9-3zfI-8Li",
        "outputId": "d66de45a-8d48-4914-d571-36b20d0f432f"
      },
      "execution_count": 16,
      "outputs": [
        {
          "output_type": "stream",
          "name": "stdout",
          "text": [
            "581\n"
          ]
        }
      ]
    },
    {
      "cell_type": "code",
      "source": [
        "answer = query_message(prompt, verbose=True)"
      ],
      "metadata": {
        "colab": {
          "base_uri": "https://localhost:8080/"
        },
        "id": "6ANbYanjBqLd",
        "outputId": "2eef216f-663c-4326-cc83-b504accf420c"
      },
      "execution_count": 17,
      "outputs": [
        {
          "output_type": "stream",
          "name": "stdout",
          "text": [
            "input tokens: 581\n",
            "output tokens: 777\n",
            "input to output ratio: 1.337\n",
            "price: $ 0.01456\n"
          ]
        }
      ]
    },
    {
      "cell_type": "code",
      "source": [
        "print(answer)"
      ],
      "metadata": {
        "colab": {
          "base_uri": "https://localhost:8080/"
        },
        "id": "0FzLa4u8478a",
        "outputId": "68cb5be8-bc39-433c-9fb3-06ba1d7d47a5"
      },
      "execution_count": 18,
      "outputs": [
        {
          "output_type": "stream",
          "name": "stdout",
          "text": [
            "2024년 5월 1일\n",
            "연방준비제도이사회(Federal Reserve) FOMC 성명서 발표\n",
            "발표 시간: 오후 2시 EDT\n",
            "\n",
            "공유하기\n",
            "최근 지표에 따르면 경제 활동이 견고한 속도로 계속 확장되고 있음을 시사합니다. 일자리 증가가 강세를 유지하고 있으며, 실업률은 낮은 수준을 유지하고 있습니다. 인플레이션은 지난 해 동안 완화되었지만 여전히 높은 수준을 유지하고 있습니다. 최근 몇 달 동안 위원회의 2% 인플레이션 목표를 향한 추가적인 진전은 부족했습니다.\n",
            "위원회는 장기적으로 최대 고용과 2% 인플레이션 달성을 목표로 하고 있습니다. 위원회는 지난 해 동안 고용 및 인플레이션 목표 달성에 대한 위험이 더 나은 균형으로 이동했다고 판단합니다. 경제 전망은 불확실하며, 위원회는 인플레이션 위험에 대해 매우 주의 깊게 관찰하고 있습니다.\n",
            "목표 달성을 지원하기 위해, 위원회는 연방기금금리 목표 범위를 5-1/4%에서 5-1/2%로 유지하기로 결정했습니다. 연방기금금리 목표 범위의 조정 여부를 고려할 때, 위원회는 들어오는 데이터, 변화하는 전망, 그리고 위험의 균형을 신중하게 평가할 것입니다. 위원회는 인플레이션이 지속 가능하게 2%를 향해 움직이고 있다는 더 큰 확신을 얻기 전까지는 목표 범위를 줄이는 것이 적절하지 않을 것이라고 예상합니다. 또한, 위원회는 국채, 기관 부채 및 기관 모기지 담보 증권 보유를 계속 줄일 것입니다. 6월부터 위원회는 국채 보유 감소 속도를 늦추기 위해 월간 상환 한도를 600억 달러에서 250억 달러로 줄일 것입니다. 위원회는 기관 부채 및 기관 모기지 담보 증권의 월간 상환 한도를 350억 달러로 유지하고, 이 한도를 초과하는 원금 상환액은 국채에 재투자할 것입니다. 위원회는 인플레이션을 2% 목표로 되돌리는 데 강력히 전념하고 있습니다.\n",
            "통화 정책의 적절한 입장을 평가함에 있어, 위원회는 경제 전망에 대한 들어오는 정보의 영향을 계속 모니터링할 것입니다. 위원회는 위원회의 목표 달성을 저해할 수 있는 위험이 발생할 경우, 적절하게 통화 정책의 입장을 조정할 준비가 되어 있습니다. 위원회의 평가는 노동 시장 조건, 인플레이션 압력 및 인플레이션 기대치, 금융 및 국제 발전에 대한 다양한 정보를 고려할 것입니다.\n",
            "통화 정책 조치에 찬성한 투표자는 제롬 H. 파월 의장, 존 C. 윌리엄스 부의장, 토마스 I. 바킨, 마이클 S. 바, 라파엘 W. 보스틱, 미셸 W. 보우먼, 리사 D. 쿡, 메리 C. 데일리, 필립 N. 제퍼슨, 아드리아나 D. 쿠글러, 로레타 J. 메스터, 크리스토퍼 J. 월러입니다.\n",
            "언론 문의는 [email protected]으로 이메일을 보내거나 202-452-2955로 전화해 주십시오.\n",
            "2024년 5월 1일 발행된 시행 노트\n"
          ]
        }
      ]
    },
    {
      "cell_type": "code",
      "source": [
        "prompt = build_prompt(statement_list[-2])\n",
        "answer = query_message(prompt, verbose=True)"
      ],
      "metadata": {
        "colab": {
          "base_uri": "https://localhost:8080/"
        },
        "id": "emE_pwKRBvVM",
        "outputId": "634c99e7-43eb-4b2d-eefe-27e933246784"
      },
      "execution_count": 19,
      "outputs": [
        {
          "output_type": "stream",
          "name": "stdout",
          "text": [
            "input tokens: 482\n",
            "output tokens: 662\n",
            "input to output ratio: 1.373\n",
            "price: $ 0.01234\n"
          ]
        }
      ]
    },
    {
      "cell_type": "code",
      "source": [
        "input_to_output = 1.35"
      ],
      "metadata": {
        "id": "E0dS7HVlCVn0"
      },
      "execution_count": 20,
      "outputs": []
    },
    {
      "cell_type": "code",
      "source": [
        "max_total_length = 128000\n",
        "max_input_length = round(max_total_length / (1+input_to_output))\n",
        "print(max_input_length)"
      ],
      "metadata": {
        "colab": {
          "base_uri": "https://localhost:8080/"
        },
        "id": "2IN14NeDBmZq",
        "outputId": "1a1b37ba-ba87-4d4e-ee76-2c6de1fad588"
      },
      "execution_count": 21,
      "outputs": [
        {
          "output_type": "stream",
          "name": "stdout",
          "text": [
            "54468\n"
          ]
        }
      ]
    },
    {
      "cell_type": "code",
      "source": [
        "prompt = build_prompt(minutes_list[-1])\n",
        "num_input_tokens = get_num_input_tokens(prompt)\n",
        "print(num_input_tokens)"
      ],
      "metadata": {
        "colab": {
          "base_uri": "https://localhost:8080/"
        },
        "id": "7XpdrFIMBOT0",
        "outputId": "899d02e7-6147-4a54-8c99-38d920ea3114"
      },
      "execution_count": 22,
      "outputs": [
        {
          "output_type": "stream",
          "name": "stdout",
          "text": [
            "8850\n"
          ]
        }
      ]
    },
    {
      "cell_type": "code",
      "source": [
        "prompts = [build_prompt(statement) for statement in statement_list]"
      ],
      "metadata": {
        "id": "OICu8KJTsIZB"
      },
      "execution_count": 23,
      "outputs": []
    },
    {
      "cell_type": "code",
      "source": [
        "total_input_tokens = 0\n",
        "for prompt in prompts:\n",
        "    total_input_tokens += get_num_input_tokens(prompt)\n",
        "print('total input tokens:', total_input_tokens)\n",
        "print('estimated price: $', estimate_price(total_input_tokens, input_to_output))"
      ],
      "metadata": {
        "colab": {
          "base_uri": "https://localhost:8080/"
        },
        "id": "sysOene5sYy0",
        "outputId": "d238c9c3-6203-41c3-8941-dcdd39cd236c"
      },
      "execution_count": 24,
      "outputs": [
        {
          "output_type": "stream",
          "name": "stdout",
          "text": [
            "total input tokens: 5561\n",
            "estimated price: $ 0.14042\n"
          ]
        }
      ]
    }
  ],
  "metadata": {
    "colab": {
      "provenance": []
    },
    "kernelspec": {
      "display_name": "Python 3",
      "name": "python3"
    },
    "language_info": {
      "name": "python"
    }
  },
  "nbformat": 4,
  "nbformat_minor": 0
}