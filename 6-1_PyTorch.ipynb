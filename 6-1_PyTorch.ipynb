{
  "nbformat": 4,
  "nbformat_minor": 0,
  "metadata": {
    "colab": {
      "provenance": [],
      "toc_visible": true
    },
    "kernelspec": {
      "name": "python3",
      "display_name": "Python 3"
    },
    "accelerator": "GPU"
  },
  "cells": [
    {
      "cell_type": "markdown",
      "metadata": {
        "id": "6Vmb3ZK5SOhz"
      },
      "source": [
        "# 6-1. **PyTorch**"
      ]
    },
    {
      "cell_type": "markdown",
      "metadata": {
        "id": "9jJgT_lITGdG"
      },
      "source": [
        "[PyTorch](https://pytorch.org/) is an open source machine learning library used for applications such as natural language processing and computer vision. It is based on the [Torch](http://torch.ch/) library.\n",
        "\n",
        "Before we use Pytorch it is (obviously) neccessary to understand what Pytorch is. Let's start from the two core concepts: **Tensor**, **(Computational) Graph** and **Automatic Differentiation**\n",
        "\n",
        "\n",
        "## Tensor\n",
        "A tensor is a generalization of vectors and matrices to potentially higher dimensions. It is the primary data structure used by neural networks. Normally, we can use **nd**-tensor to call any of its instances where **nd** stands for **n** **dimensional**.\n",
        "\n",
        "There are three basic attributes we need to know about tensors:\n",
        "*   *Rank*: The number of dimensions present within the tensor. e.g. rank-2 tensor means 2d-tensor.\n",
        "*   *Axes*: Used to refer to a specific dimensions. The number of axes equals to the number of dimensions. The length of an axis represents the number of elements running along this axis.\n",
        "*   *Shape*: Formed by the length of each axis. e.g. shape(1,2) means a 2d-tensor with the first axis of length 1 and the second axis of length 2.\n",
        "\n",
        "\n",
        "![Tensor_Rank](https://drive.google.com/uc?id=1o5wulLHGxUuPxH3t3xfV8U7d2CrsL1oG)\n",
        "\n",
        "\n",
        "A [torch.Tensor](https://pytorch.org/docs/stable/tensors.html) (tensor in PyTorch) has the following key properties :\n",
        "*   *torch.dtype*: an object representing the data type of a torch.Tensor. e.g. torch.float32\n",
        "*   *torch.device*: an object representing the device on which a torch.Tensor is or will be allocated. e.g. CPU or CUDA (GPU)\n",
        "*   *torch.layout*: an object representing the memory layout of a torch.Tensor.\n",
        "\n",
        "More details with illustrative examples can be found [here](https://pytorch.org/docs/stable/tensor_attributes.html#tensor-attributes-doc)\n",
        "\n",
        "\n"
      ]
    },
    {
      "cell_type": "markdown",
      "metadata": {
        "id": "lONWx3FtSwWJ"
      },
      "source": [
        "## Computational Graph and Automatic Differentiation\n",
        "PyTorch uses (directed acyclic) computational graphs  to graph the functional operations that are applied to tensors inside neural networks so as to computationally calculate derivatives for the network optimization. In graphs, the nodes are Tensors while the eages are functions that produce output Tensors from input Tensors (e.g. summation, mutiplication). Those graphs enable PyTorch to do the automatic differentiation for us, i.e. it can automatically calculate the derivatives that are needed for network optimization. We will learn more about it through pratical examples in following sections.\n",
        "\n",
        "Specifically, PyTorch generates the computational graph on the fly as when operations are created during forward passes in neural networks, which is refered as dynamic computational graph. This is the one of the main differences between PyTorch and TensorFlow which uses static computational graphs.  \n",
        "\n"
      ]
    },
    {
      "cell_type": "markdown",
      "metadata": {
        "id": "xWQxFb_W8flk"
      },
      "source": [
        "## Importing PyTorch library\n",
        "[Google Colab](https://colab.research.google.com/notebooks/welcome.ipynb) has torch library installed as default so you just need to import it as below:"
      ]
    },
    {
      "cell_type": "code",
      "metadata": {
        "id": "horLjqk6TNZX",
        "colab": {
          "base_uri": "https://localhost:8080/"
        },
        "outputId": "f59d7dce-2f24-4f3e-b0fb-24cb3bca0ebb"
      },
      "source": [
        "import torch\n",
        "print(torch.__version__) #check version"
      ],
      "execution_count": 1,
      "outputs": [
        {
          "output_type": "stream",
          "name": "stdout",
          "text": [
            "2.2.1+cu121\n"
          ]
        }
      ]
    },
    {
      "cell_type": "markdown",
      "metadata": {
        "id": "XPp2MGCe1apL"
      },
      "source": [
        "## Tensor creation\n",
        "With PyTorch, we will be implementing lots of models. To get started, let's  have a look at how to create a tensor.\n",
        "\n",
        "We can creating tensors **with numerical data**, typically numpy arrays."
      ]
    },
    {
      "cell_type": "code",
      "metadata": {
        "id": "bSymfXYxUT-8",
        "colab": {
          "base_uri": "https://localhost:8080/"
        },
        "outputId": "6ec27f23-68f2-4dab-91b1-9ad4ada9b12d"
      },
      "source": [
        "import numpy as np\n",
        "\n",
        "# Scalar (0 Rank)\n",
        "data = torch.tensor(1)\n",
        "print(data.shape)\n",
        "\n",
        "# Vector (1 Rank)\n",
        "data = np.array([1, 2])\n",
        "data = torch.Tensor(data)\n",
        "print(data.shape)\n",
        "\n",
        "# Matrix (2 Rank)\n",
        "data = np.ones((2, 2))\n",
        "data = torch.Tensor(data)\n",
        "print(data.shape)\n",
        "\n",
        "# Cube (3 Rank)\n",
        "data = np.ones((2, 2, 2))\n",
        "data = torch.Tensor(data)\n",
        "print(data.shape)\n",
        "\n",
        "# Vector of cubes (4 Rank)\n",
        "data = np.ones((2, 2, 2, 2))\n",
        "data = torch.Tensor(data)\n",
        "print(data.shape)"
      ],
      "execution_count": 6,
      "outputs": [
        {
          "output_type": "stream",
          "name": "stdout",
          "text": [
            "torch.Size([])\n",
            "torch.Size([2])\n",
            "torch.Size([2, 2])\n",
            "torch.Size([2, 2, 2])\n",
            "torch.Size([2, 2, 2, 2])\n"
          ]
        }
      ]
    },
    {
      "cell_type": "markdown",
      "metadata": {
        "id": "6LEAyEhrn03F"
      },
      "source": [
        "Notice that although both torch.Tensor() and torch.tensor() can be used to generate tensors, there are some differences:\n",
        "\n",
        "*   uppercase t VS. lowercase T (obviously)\n",
        "*   torch.Tensor() is the constructor of the torch.Tensor class while the torch.tensor() is a factory function that constructs torch.Tensor objects and return them to the caller\n",
        "*   torch.Tensor() can return an empty tensor without specifying incoming data while torch.tensor() with no input data will prouduce a TypeError (you can try)\n",
        "*   torch.Tensor uses the default dtype 'float32' while the torch.tensor() choose the same dtype based on the incoming data (type inference), this can be easily illustrated thorugh following example:\n",
        "\n"
      ]
    },
    {
      "cell_type": "code",
      "source": [
        "data = np.array([1, 2])\n",
        "print(data.dtype)\n",
        "print()\n",
        "\n",
        "data_T = torch.Tensor(data)\n",
        "print(data_T)\n",
        "print(data_T.dtype)\n",
        "# get the torch default data type, which can also be changed through 'torch.set_default_dtype(dtype)'\n",
        "print(data_T.dtype==torch.get_default_dtype())\n",
        "print()"
      ],
      "metadata": {
        "colab": {
          "base_uri": "https://localhost:8080/"
        },
        "id": "KqybtmqgmxsI",
        "outputId": "6377c78d-51b7-4ee9-e93a-4e5f836fdb82"
      },
      "execution_count": 7,
      "outputs": [
        {
          "output_type": "stream",
          "name": "stdout",
          "text": [
            "int64\n",
            "\n",
            "tensor([1., 2.])\n",
            "torch.float32\n",
            "True\n",
            "\n"
          ]
        }
      ]
    },
    {
      "cell_type": "code",
      "metadata": {
        "id": "fxsULaaptyF7",
        "colab": {
          "base_uri": "https://localhost:8080/"
        },
        "outputId": "71cd098a-3eae-423a-c1eb-c7ba463e1351"
      },
      "source": [
        "data_t = torch.tensor(data)\n",
        "print(data_t)\n",
        "print(data_t.dtype)\n",
        "print()\n",
        "\n",
        "# we can also specify a datatype with torch.tensor()\n",
        "data_t = torch.tensor(data, dtype=torch.float64)\n",
        "print(data_t)\n",
        "print(data_t.dtype)"
      ],
      "execution_count": 8,
      "outputs": [
        {
          "output_type": "stream",
          "name": "stdout",
          "text": [
            "tensor([1, 2])\n",
            "torch.int64\n",
            "\n",
            "tensor([1., 2.], dtype=torch.float64)\n",
            "torch.float64\n"
          ]
        }
      ]
    },
    {
      "cell_type": "markdown",
      "metadata": {
        "id": "cE2tWt771BYk"
      },
      "source": [
        "Except for torch.Tensor() and torch.tensor(), We can also use torch.as_tensor and torch.from_numpy"
      ]
    },
    {
      "cell_type": "code",
      "metadata": {
        "id": "hE5zySUlbYPK",
        "colab": {
          "base_uri": "https://localhost:8080/"
        },
        "outputId": "80275902-4254-45ee-9ca1-5efd658fab6e"
      },
      "source": [
        "# Create tensor using torch.as_tensor\n",
        "data = np.ones((2, 2, 2))\n",
        "data = torch.as_tensor(data)\n",
        "print(data.shape)\n",
        "\n",
        "# Create tensor using torch.from_numpy\n",
        "data = np.ones((2, 2, 2, 2))\n",
        "data = torch.from_numpy(data)\n",
        "print(data.shape)"
      ],
      "execution_count": 9,
      "outputs": [
        {
          "output_type": "stream",
          "name": "stdout",
          "text": [
            "torch.Size([2, 2, 2])\n",
            "torch.Size([2, 2, 2, 2])\n"
          ]
        }
      ]
    },
    {
      "cell_type": "markdown",
      "metadata": {
        "id": "Q-hrVh5Eb50F"
      },
      "source": [
        "Alternatively, we can also create tensors **without data** using factory functions"
      ]
    },
    {
      "cell_type": "code",
      "metadata": {
        "id": "XGnl32afcBnv",
        "colab": {
          "base_uri": "https://localhost:8080/"
        },
        "outputId": "6ddd04bd-368b-4e6e-8234-0993b37ea05a"
      },
      "source": [
        "# torch.eye: Returns an identity matrix\n",
        "torch.eye(2)"
      ],
      "execution_count": 10,
      "outputs": [
        {
          "output_type": "execute_result",
          "data": {
            "text/plain": [
              "tensor([[1., 0.],\n",
              "        [0., 1.]])"
            ]
          },
          "metadata": {},
          "execution_count": 10
        }
      ]
    },
    {
      "cell_type": "code",
      "metadata": {
        "id": "R8QlyKrPcxs_",
        "colab": {
          "base_uri": "https://localhost:8080/"
        },
        "outputId": "5c174eaa-d566-4dee-e4f7-ea40cf017852"
      },
      "source": [
        "# torch.zeros: Returns a tensor of given shape filled with all zeros\n",
        "torch.zeros(2, 2)"
      ],
      "execution_count": 11,
      "outputs": [
        {
          "output_type": "execute_result",
          "data": {
            "text/plain": [
              "tensor([[0., 0.],\n",
              "        [0., 0.]])"
            ]
          },
          "metadata": {},
          "execution_count": 11
        }
      ]
    },
    {
      "cell_type": "code",
      "metadata": {
        "id": "rO_IkTuSc66X",
        "colab": {
          "base_uri": "https://localhost:8080/"
        },
        "outputId": "dc209c9c-7358-4726-d633-d770e2cb567a"
      },
      "source": [
        "# torch.ones: Returns a tensor of given shape filled with all ones\n",
        "torch.ones(2, 2)"
      ],
      "execution_count": 12,
      "outputs": [
        {
          "output_type": "execute_result",
          "data": {
            "text/plain": [
              "tensor([[1., 1.],\n",
              "        [1., 1.]])"
            ]
          },
          "metadata": {},
          "execution_count": 12
        }
      ]
    },
    {
      "cell_type": "code",
      "metadata": {
        "id": "BZqJpoIXc8wL",
        "colab": {
          "base_uri": "https://localhost:8080/"
        },
        "outputId": "ca5bf042-065a-431c-e390-1a96ad549bcc"
      },
      "source": [
        "# torch.rand: Returns a tensor of given shape filled with values drawn from a uniform distribution on [0, 1).\n",
        "torch.rand(2, 2)"
      ],
      "execution_count": 13,
      "outputs": [
        {
          "output_type": "execute_result",
          "data": {
            "text/plain": [
              "tensor([[0.4554, 0.3280],\n",
              "        [0.1424, 0.6888]])"
            ]
          },
          "metadata": {},
          "execution_count": 13
        }
      ]
    },
    {
      "cell_type": "markdown",
      "metadata": {
        "id": "NTOQtikExO7M"
      },
      "source": [
        "More factory functions for tensor creation can be found [here](https://pytorch.org/cppdocs/notes/tensor_creation.html#factory-functions)"
      ]
    },
    {
      "cell_type": "markdown",
      "metadata": {
        "id": "Bff_DPKHbSvY"
      },
      "source": [
        "## Basic tensor operations"
      ]
    },
    {
      "cell_type": "markdown",
      "metadata": {
        "id": "rKz1UOFEHYVr"
      },
      "source": [
        "The list of operations with examples can be found [here](https://pytorch.org/docs/stable/torch.html#math-operations). Please go through and try to practice yourself with examples before you move on. You don't need to remember all of them, you can easily refer back when needed."
      ]
    },
    {
      "cell_type": "markdown",
      "metadata": {
        "id": "IE91VTvN_YVB"
      },
      "source": [
        "## Simple Linear Regression\n",
        "\n",
        "![Linear_Regression](https://upload.wikimedia.org/wikipedia/commons/thumb/3/3a/Linear_regression.svg/320px-Linear_regression.svg.png)\n",
        "\n",
        "The following code implements a simple linear regression algorithm.\n",
        "\n"
      ]
    },
    {
      "cell_type": "markdown",
      "metadata": {
        "id": "3fXyR-6lGlie"
      },
      "source": [
        "### Linear Regression from scratch"
      ]
    },
    {
      "cell_type": "markdown",
      "metadata": {
        "id": "ALnKOtUpGZyk"
      },
      "source": [
        "Prepare data"
      ]
    },
    {
      "cell_type": "code",
      "metadata": {
        "id": "uK900tGJBcbt"
      },
      "source": [
        "import numpy as np\n",
        "import matplotlib.pyplot as plt\n",
        "import torch\n",
        "\n",
        "# training data\n",
        "x_training = np.asarray([1, 2, 5, 8, 9, 12, 14, 16, 18, 20])\n",
        "y_training = np.asarray([1500, 3500, 7200, 11000, 12500, 18500, 22000, 24500, 28000, 30500])\n",
        "\n",
        "x_test = np.asarray([3, 7, 13, 15, 19])\n",
        "y_test = np.asarray([4400, 10000, 19500, 23500, 29000])\n",
        "\n",
        "# creating tensor for trainig from training data\n",
        "x_data = torch.from_numpy(x_training)\n",
        "y_data = torch.from_numpy(y_training)\n",
        "x_test_data = torch.from_numpy(x_test)\n",
        "y_test_data = torch.from_numpy(y_test)"
      ],
      "execution_count": 14,
      "outputs": []
    },
    {
      "cell_type": "markdown",
      "metadata": {
        "id": "u4DA9NoJG10G"
      },
      "source": [
        " Once the dataset is prepared, we can start defining our model architecture\n",
        "\n",
        " Let's first build it from scratch so as to gain a clear understanding about how the automatic differentiation works\n",
        "\n"
      ]
    },
    {
      "cell_type": "code",
      "metadata": {
        "id": "IzlkNOOpGk8r",
        "colab": {
          "base_uri": "https://localhost:8080/"
        },
        "outputId": "dde25d77-fe18-470f-fb01-ff0954a0d968"
      },
      "source": [
        "# Define weights and biases\n",
        "weight = torch.tensor(np.random.randn(), requires_grad=True)\n",
        "bias = torch.tensor(np.random.randn(), requires_grad=True)\n",
        "print(weight)\n",
        "print(bias)"
      ],
      "execution_count": 15,
      "outputs": [
        {
          "output_type": "stream",
          "name": "stdout",
          "text": [
            "tensor(1.2300, requires_grad=True)\n",
            "tensor(0.3981, requires_grad=True)\n"
          ]
        }
      ]
    },
    {
      "cell_type": "markdown",
      "metadata": {
        "id": "9p3lWE7DL_c2"
      },
      "source": [
        "Note that we set **`requires_grad=True`** above, which turns on the automatic gradient computation for weight and bias"
      ]
    },
    {
      "cell_type": "code",
      "metadata": {
        "id": "FnGNiyccJEU7"
      },
      "source": [
        "# Define the model\n",
        "# Hypothesis = W * X + b (Linear Model)\n",
        "def linearRegression(x):\n",
        "    return x * weight + bias"
      ],
      "execution_count": 16,
      "outputs": []
    },
    {
      "cell_type": "code",
      "metadata": {
        "id": "eYVxYYEaJw_9",
        "colab": {
          "base_uri": "https://localhost:8080/"
        },
        "outputId": "58a295f6-e01e-419f-fe6a-6b94f98aed8c"
      },
      "source": [
        "# Generate predictions and compare with ground truth labels\n",
        "# As we can see, we randomly initialize the weight and bias, the model does not predict properly at the moment\n",
        "predictions = linearRegression(x_data)\n",
        "print(predictions)\n",
        "print(y_data)"
      ],
      "execution_count": 17,
      "outputs": [
        {
          "output_type": "stream",
          "name": "stdout",
          "text": [
            "tensor([ 1.6281,  2.8580,  6.5479, 10.2378, 11.4678, 15.1577, 17.6176, 20.0776,\n",
            "        22.5375, 24.9974], grad_fn=<AddBackward0>)\n",
            "tensor([ 1500,  3500,  7200, 11000, 12500, 18500, 22000, 24500, 28000, 30500])\n"
          ]
        }
      ]
    },
    {
      "cell_type": "code",
      "metadata": {
        "id": "4rjCmeI3KxEy"
      },
      "source": [
        "# Define loss function\n",
        "# here we use mean squared error (MSE)\n",
        "def mse(x1, x2):\n",
        "    diff = x1 - x2\n",
        "    return torch.sum(diff*diff)/diff.numel()"
      ],
      "execution_count": 18,
      "outputs": []
    },
    {
      "cell_type": "code",
      "metadata": {
        "id": "MnnZ_W8yLPLw",
        "colab": {
          "base_uri": "https://localhost:8080/"
        },
        "outputId": "8dda80e8-2e30-41c5-9637-37d7438c3000"
      },
      "source": [
        "# Compute loss\n",
        "# As we all know, the lower, the better\n",
        "loss = mse(predictions, y_data)\n",
        "print(loss)"
      ],
      "execution_count": 19,
      "outputs": [
        {
          "output_type": "stream",
          "name": "stdout",
          "text": [
            "tensor(3.4786e+08, grad_fn=<DivBackward0>)\n"
          ]
        }
      ]
    },
    {
      "cell_type": "markdown",
      "metadata": {
        "id": "Ua8D9hd2MmSb"
      },
      "source": [
        "As is mentioned, PyTorch automatically compute the gradient/derivative of the loss (with regard to the weight and bias here). This was enabled when we set `requires_grad=True` to them.\n",
        "\n",
        "All we need to do now is to call the `backward()` over our loss, which will trigger the automatical computation of gradients based on the chain rule."
      ]
    },
    {
      "cell_type": "code",
      "metadata": {
        "id": "cQ5PL5rbNJ09"
      },
      "source": [
        "# Compute gradients\n",
        "loss.backward()"
      ],
      "execution_count": 20,
      "outputs": []
    },
    {
      "cell_type": "markdown",
      "metadata": {
        "id": "qwuD_tYMNnZP"
      },
      "source": [
        "After the backward passing, the gradients are stored in the `.grad` property of the involved tensors. Let's have a look."
      ]
    },
    {
      "cell_type": "code",
      "metadata": {
        "id": "w5glqZhkN1Fl",
        "colab": {
          "base_uri": "https://localhost:8080/"
        },
        "outputId": "c4bff2a7-4165-4d07-aeaf-ea2324c582f1"
      },
      "source": [
        "# Gradient for weight\n",
        "print(weight)\n",
        "print(weight.grad)\n",
        "print()\n",
        "\n",
        "# Gradient for bias\n",
        "print(bias)\n",
        "print(bias.grad)"
      ],
      "execution_count": 21,
      "outputs": [
        {
          "output_type": "stream",
          "name": "stdout",
          "text": [
            "tensor(1.2300, requires_grad=True)\n",
            "tensor(-455823.8750)\n",
            "\n",
            "tensor(0.3981, requires_grad=True)\n",
            "tensor(-31813.3750)\n"
          ]
        }
      ]
    },
    {
      "cell_type": "markdown",
      "metadata": {
        "id": "bvHjhErrPiDk"
      },
      "source": [
        "Now we can easily adjust the weight and bias using the gradients.\n",
        "\n",
        "We need to reset the gradients before next forward pass, because PyTorch accumulates gradients."
      ]
    },
    {
      "cell_type": "code",
      "metadata": {
        "id": "F_HXZkOUP-vB",
        "colab": {
          "base_uri": "https://localhost:8080/"
        },
        "outputId": "6004b1c6-648b-459f-d1a1-f0400bf4de89"
      },
      "source": [
        "# We do not want gradient for the update operation\n",
        "# There will not be automatic gradient computation within the torch.no_grad()\n",
        "\n",
        "with torch.no_grad():\n",
        "    weight -= weight.grad * 1e-5\n",
        "    bias -= bias.grad * 1e-5\n",
        "    # remember to reset the gradients\n",
        "    weight.grad.zero_()\n",
        "    bias.grad.zero_()\n",
        "print(weight)\n",
        "print(bias)\n"
      ],
      "execution_count": 22,
      "outputs": [
        {
          "output_type": "stream",
          "name": "stdout",
          "text": [
            "tensor(5.7882, requires_grad=True)\n",
            "tensor(0.7162, requires_grad=True)\n"
          ]
        }
      ]
    },
    {
      "cell_type": "code",
      "metadata": {
        "id": "MSj4yiSSSOJj",
        "colab": {
          "base_uri": "https://localhost:8080/"
        },
        "outputId": "df3a728d-9b1b-4f8d-ec6e-734ae73d26a1"
      },
      "source": [
        "print(weight.grad)\n",
        "print(bias.grad)"
      ],
      "execution_count": 23,
      "outputs": [
        {
          "output_type": "stream",
          "name": "stdout",
          "text": [
            "tensor(0.)\n",
            "tensor(0.)\n"
          ]
        }
      ]
    },
    {
      "cell_type": "markdown",
      "metadata": {
        "id": "3rmo63CASlPp"
      },
      "source": [
        "Let's predict and compute loss again. The loss should be lower with new weights and biases"
      ]
    },
    {
      "cell_type": "code",
      "metadata": {
        "id": "xRBatrmLSxmW",
        "colab": {
          "base_uri": "https://localhost:8080/"
        },
        "outputId": "06f32946-c75a-4abf-c12f-868f0bb08f07"
      },
      "source": [
        "predictions = linearRegression(x_data)\n",
        "loss = mse(predictions, y_data)\n",
        "print(loss)"
      ],
      "execution_count": 24,
      "outputs": [
        {
          "output_type": "stream",
          "name": "stdout",
          "text": [
            "tensor(3.4578e+08, grad_fn=<DivBackward0>)\n"
          ]
        }
      ]
    },
    {
      "cell_type": "markdown",
      "metadata": {
        "id": "OE05OxGETIGd"
      },
      "source": [
        "Hope you now have an initial clear understanding of how automatic gradient computing works.\n",
        "\n",
        "Let's start training the model for multiple epochs.\n",
        "\n",
        "We can just simply create python loop to do it."
      ]
    },
    {
      "cell_type": "code",
      "metadata": {
        "id": "glakWvo4TmmU",
        "colab": {
          "base_uri": "https://localhost:8080/",
          "height": 1000
        },
        "outputId": "6c1a21c1-f736-4ebe-c29a-82f55f98fa8d"
      },
      "source": [
        "# An epoch is one iteration over the entire input data\n",
        "no_of_epochs = 5000\n",
        "# How often you want to display training info.\n",
        "display_interval = 200\n",
        "\n",
        "for epoch in range(no_of_epochs):\n",
        "    predictions = linearRegression(x_data)\n",
        "    loss = mse(predictions, y_data)\n",
        "    loss.backward()\n",
        "    with torch.no_grad():\n",
        "        weight -= weight.grad * 1e-5\n",
        "        bias -= bias.grad * 1e-5\n",
        "        weight.grad.zero_()\n",
        "        bias.grad.zero_()\n",
        "        if epoch % display_interval == 0 :\n",
        "            # calculate the cost of the current model\n",
        "            predictions = linearRegression(x_data)\n",
        "            loss = mse(predictions, y_data)\n",
        "            print('Epoch:', '%04d' %(epoch), 'loss=', '{:.8f}'.format(loss), 'W=', '{:.4f}'.format(weight), 'b=',  '{:.4f}'.format(bias))\n",
        "\n",
        "print('=========================================================')\n",
        "training_loss = mse(linearRegression(x_data), y_data)\n",
        "print('Optimised:', 'lost=', '{:.9f}'.format(training_loss.data), \\\n",
        "              'W=', '{:.9f}'.format(weight.data), 'b=', '{:.9f}'.format(bias.data))\n",
        "\n",
        "# Plot training data on the graph\n",
        "plt.plot(x_training, y_training, 'ro', label='Training data')\n",
        "plt.plot(x_training, weight.data * x_training + bias.data, label='Linear')\n",
        "plt.legend()\n",
        "plt.show()\n",
        "\n",
        "# Calculate testing loss\n",
        "testing_loss = mse(linearRegression(x_test_data), y_test_data)\n",
        "print('Testing loss=', '{:.9f}'.format(testing_loss.data))\n",
        "print('Absolute mean square loss difference:', '{:.9f}'.format(abs(\n",
        "      training_loss.data - testing_loss.data)))\n",
        "\n",
        "# Plot testing data on the graph\n",
        "plt.plot(x_test, y_test, 'bo', label='Testing data')\n",
        "plt.plot(x_test, weight.data * x_test + bias.data, label='Linear')\n",
        "plt.legend()\n",
        "plt.show()"
      ],
      "execution_count": 25,
      "outputs": [
        {
          "output_type": "stream",
          "name": "stdout",
          "text": [
            "Epoch: 0000 loss= 343703488.00000000 W= 10.3327 b= 1.0334\n",
            "Epoch: 0200 loss= 103441048.00000000 W= 692.2244 b= 48.4955\n",
            "Epoch: 0400 loss= 31343968.00000000 W= 1065.7755 b= 74.2641\n",
            "Epoch: 0600 loss= 9709322.00000000 W= 1270.4193 b= 88.1496\n",
            "Epoch: 0800 loss= 3217176.75000000 W= 1382.5378 b= 95.5257\n",
            "Epoch: 1000 loss= 1268928.75000000 W= 1443.9722 b= 99.3363\n",
            "Epoch: 1200 loss= 684222.00000000 W= 1477.6411 b= 101.1940\n",
            "Epoch: 1400 loss= 508666.56250000 W= 1496.1017 b= 101.9822\n",
            "Epoch: 1600 loss= 455899.25000000 W= 1506.2299 b= 102.1847\n",
            "Epoch: 1800 loss= 439975.09375000 W= 1511.7942 b= 102.0666\n",
            "Epoch: 2000 loss= 435106.93750000 W= 1514.8582 b= 101.7731\n",
            "Epoch: 2200 loss= 433555.56250000 W= 1516.5527 b= 101.3839\n",
            "Epoch: 2400 loss= 433000.75000000 W= 1517.4973 b= 100.9423\n",
            "Epoch: 2600 loss= 432744.40625000 W= 1518.0306 b= 100.4724\n",
            "Epoch: 2800 loss= 432578.50000000 W= 1518.3389 b= 99.9872\n",
            "Epoch: 3000 loss= 432439.31250000 W= 1518.5229 b= 99.4938\n",
            "Epoch: 3200 loss= 432308.34375000 W= 1518.6396 b= 98.9962\n",
            "Epoch: 3400 loss= 432180.25000000 W= 1518.7196 b= 98.4965\n",
            "Epoch: 3600 loss= 432053.43750000 W= 1518.7769 b= 97.9960\n",
            "Epoch: 3800 loss= 431926.50000000 W= 1518.8257 b= 97.4956\n",
            "Epoch: 4000 loss= 431800.84375000 W= 1518.8745 b= 96.9951\n",
            "Epoch: 4200 loss= 431674.25000000 W= 1518.9141 b= 96.4946\n",
            "Epoch: 4400 loss= 431548.59375000 W= 1518.9492 b= 95.9941\n",
            "Epoch: 4600 loss= 431423.59375000 W= 1518.9843 b= 95.4948\n",
            "Epoch: 4800 loss= 431298.18750000 W= 1519.0193 b= 94.9958\n",
            "=========================================================\n",
            "Optimised: lost= 431173.500000000 W= 1519.054199219 b= 94.499359131\n"
          ]
        },
        {
          "output_type": "display_data",
          "data": {
            "text/plain": [
              "<Figure size 640x480 with 1 Axes>"
            ],
            "image/png": "[encoded data removed]"
          },
          "metadata": {}
        },
        {
          "output_type": "stream",
          "name": "stdout",
          "text": [
            "Testing loss= 219229.328125000\n",
            "Absolute mean square loss difference: 211944.171875000\n"
          ]
        },
        {
          "output_type": "display_data",
          "data": {
            "text/plain": [
              "<Figure size 640x480 with 1 Axes>"
            ],
            "image/png": "[encoded data removed]"
          },
          "metadata": {}
        }
      ]
    },
    {
      "cell_type": "markdown",
      "metadata": {
        "id": "54_Tj-BIaDPU"
      },
      "source": [
        "### Linear Regression using PyTorch built-ins"
      ]
    },
    {
      "cell_type": "markdown",
      "metadata": {
        "id": "yUrcVErtayVN"
      },
      "source": [
        "Prepare data"
      ]
    },
    {
      "cell_type": "code",
      "metadata": {
        "id": "5DwoqFKbaiSY"
      },
      "source": [
        "import numpy\n",
        "import matplotlib.pyplot as plt\n",
        "import torch\n",
        "import torch.nn as nn\n",
        "\n",
        "# training data: this time we use 2d array\n",
        "# Assuming we have 90 samples of 10 featues about a house condition, such as bedroom number, distance to city center etc.\n",
        "# and will predict the house price\n",
        "x_data = torch.randn(90, 10)\n",
        "y_data = torch.randn(90, 1)\n",
        "\n",
        "# testing data:\n",
        "x_test_data = torch.randn(10, 10)\n",
        "y_test_data = torch.randn(10, 1)"
      ],
      "execution_count": 26,
      "outputs": []
    },
    {
      "cell_type": "markdown",
      "metadata": {
        "id": "79_tCTbKa_Go"
      },
      "source": [
        "This time we don't need to initialize the weight and bias manually. Instead, we will define the model using the built-in [torch.nn.Linear](https://pytorch.org/docs/stable/nn.html#linear).\n",
        "\n",
        "[**torch.nn**](https://pytorch.org/docs/stable/nn.html) is a subpackage that contains modules and extensible classes for us to build neural networks.\n",
        "\n"
      ]
    },
    {
      "cell_type": "code",
      "metadata": {
        "id": "rA8sqMF_bOSL",
        "colab": {
          "base_uri": "https://localhost:8080/"
        },
        "outputId": "826eaad6-45bf-4b6f-d119-052d4e702852"
      },
      "source": [
        "# Define model\n",
        "linearRegression = nn.Linear(10, 1)\n",
        "print(linearRegression.weight)\n",
        "print(linearRegression.bias)"
      ],
      "execution_count": 27,
      "outputs": [
        {
          "output_type": "stream",
          "name": "stdout",
          "text": [
            "Parameter containing:\n",
            "tensor([[ 0.1305,  0.1140, -0.2715, -0.1736, -0.2749, -0.0589, -0.2747,  0.2141,\n",
            "          0.2955,  0.1791]], requires_grad=True)\n",
            "Parameter containing:\n",
            "tensor([-0.0973], requires_grad=True)\n"
          ]
        }
      ]
    },
    {
      "cell_type": "markdown",
      "metadata": {
        "id": "D4UxFi0bbeC3"
      },
      "source": [
        "Similarly, we don't mannually updating the weight and bias using gradients by ouselves. Instead, we will use the optimizer optim.SGD.\n",
        "\n",
        "[**torhc.optim**](https://pytorch.org/docs/stable/optim.html) is a subpackage that contains the standard optimization operations like Adam and SGD.\n",
        "\n"
      ]
    },
    {
      "cell_type": "code",
      "metadata": {
        "id": "k62ayy77bu5W"
      },
      "source": [
        "# Define optimizer\n",
        "# Just pass the model parameters to be updated and specify the learning rate when calling optim.SGD\n",
        "# SGD optimizer in PyTorch actually is Mini-batch Gradient Descent with momentum.\n",
        "# In this case, as the batch size of our model is N, SGD here is actually Batch Gradient Descent.\n",
        "optimizer = torch.optim.SGD(linearRegression.parameters(), lr=1e-5)"
      ],
      "execution_count": 28,
      "outputs": []
    },
    {
      "cell_type": "markdown",
      "metadata": {
        "id": "vfKM513UcH-4"
      },
      "source": [
        "Again, we use the built-in loss function mse_loss instead of defining it mannually.\n",
        "\n",
        "We will need the [**torch.nn.functional**](https://pytorch.org/docs/stable/nn.functional.html) interface, which contains typical operations used for building neural networks such as convolution operations, activation functions and loss functions we need here."
      ]
    },
    {
      "cell_type": "code",
      "metadata": {
        "id": "sKWCYuiocOUS",
        "colab": {
          "base_uri": "https://localhost:8080/"
        },
        "outputId": "d91c89e6-fee8-4e23-d2cd-90a0f9adf189"
      },
      "source": [
        "# Import nn.functional\n",
        "import torch.nn.functional as F\n",
        "\n",
        "# Define the loss function\n",
        "loss_func = F.mse_loss\n",
        "\n",
        "# Calculate loss\n",
        "loss = loss_func(linearRegression(x_data), y_data)\n",
        "print(loss)"
      ],
      "execution_count": 29,
      "outputs": [
        {
          "output_type": "stream",
          "name": "stdout",
          "text": [
            "tensor(1.3365, grad_fn=<MseLossBackward0>)\n"
          ]
        }
      ]
    },
    {
      "cell_type": "markdown",
      "metadata": {
        "id": "l1pjqzZCNJgJ"
      },
      "source": [
        "Train the model"
      ]
    },
    {
      "cell_type": "code",
      "metadata": {
        "id": "xbYtLruwwRfr",
        "colab": {
          "base_uri": "https://localhost:8080/"
        },
        "outputId": "d92e850a-88f9-49c7-cf9b-0b8f8f2c2be6"
      },
      "source": [
        "# An epoch is one iteration over the entire input data\n",
        "no_of_epochs = 5000\n",
        "# How often you want to display training info.\n",
        "display_interval = 200\n",
        "\n",
        "for epoch in range(no_of_epochs):\n",
        "    predictions = linearRegression(x_data)\n",
        "    loss = loss_func(predictions, y_data)\n",
        "    loss.backward()\n",
        "    optimizer.step() #call step() to automatically update the parameters through our defined optimizer, which can be called once after backward()\n",
        "    optimizer.zero_grad() #reset the gradient as what we did before\n",
        "    if epoch % display_interval == 0 :\n",
        "        # calculate the cost of the current model\n",
        "        predictions = linearRegression(x_data)\n",
        "        loss = loss_func(predictions, y_data)\n",
        "        print('Epoch:', '%04d' % (epoch), 'loss=', '{:.8f}'.format(loss))\n",
        "\n",
        "print('=========================================================')\n",
        "training_loss = mse(linearRegression(x_data), y_data)\n",
        "print('Optimised:', 'lost=', '{:.9f}'.format(training_loss.data))\n",
        "\n",
        "\n",
        "# Calculate testing loss\n",
        "testing_loss = loss_func(linearRegression(x_test_data), y_test_data)\n",
        "print('Testing loss=', '{:.9f}'.format(testing_loss.data))\n",
        "print('Absolute mean square loss difference:', '{:.9f}'.format(abs(\n",
        "      training_loss.data - testing_loss.data)))"
      ],
      "execution_count": 30,
      "outputs": [
        {
          "output_type": "stream",
          "name": "stdout",
          "text": [
            "Epoch: 0000 loss= 1.33646035\n",
            "Epoch: 0200 loss= 1.33183742\n",
            "Epoch: 0400 loss= 1.32726681\n",
            "Epoch: 0600 loss= 1.32274735\n",
            "Epoch: 0800 loss= 1.31827831\n",
            "Epoch: 1000 loss= 1.31385934\n",
            "Epoch: 1200 loss= 1.30948937\n",
            "Epoch: 1400 loss= 1.30516863\n",
            "Epoch: 1600 loss= 1.30089617\n",
            "Epoch: 1800 loss= 1.29667127\n",
            "Epoch: 2000 loss= 1.29249287\n",
            "Epoch: 2200 loss= 1.28836274\n",
            "Epoch: 2400 loss= 1.28427780\n",
            "Epoch: 2600 loss= 1.28023767\n",
            "Epoch: 2800 loss= 1.27624321\n",
            "Epoch: 3000 loss= 1.27229381\n",
            "Epoch: 3200 loss= 1.26838732\n",
            "Epoch: 3400 loss= 1.26452422\n",
            "Epoch: 3600 loss= 1.26070476\n",
            "Epoch: 3800 loss= 1.25692761\n",
            "Epoch: 4000 loss= 1.25319207\n",
            "Epoch: 4200 loss= 1.24949801\n",
            "Epoch: 4400 loss= 1.24584532\n",
            "Epoch: 4600 loss= 1.24223292\n",
            "Epoch: 4800 loss= 1.23865998\n",
            "=========================================================\n",
            "Optimised: lost= 1.235145450\n",
            "Testing loss= 2.470727682\n",
            "Absolute mean square loss difference: 1.235582232\n"
          ]
        }
      ]
    },
    {
      "cell_type": "code",
      "source": [],
      "metadata": {
        "id": "d5ZqA1pFrVZX"
      },
      "execution_count": null,
      "outputs": []
    }
  ]
}